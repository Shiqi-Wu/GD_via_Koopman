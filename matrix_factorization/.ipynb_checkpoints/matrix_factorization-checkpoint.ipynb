{
 "cells": [
  {
   "cell_type": "code",
   "execution_count": 1,
   "id": "577df1a0",
   "metadata": {},
   "outputs": [
    {
     "data": {
      "text/html": [
       "<style type='text/css'>\n",
       ".CodeMirror{\n",
       "font-size: 22px;\n",
       "</style>\n"
      ],
      "text/plain": [
       "<IPython.core.display.HTML object>"
      ]
     },
     "metadata": {},
     "output_type": "display_data"
    }
   ],
   "source": [
    "%%html\n",
    "<style type='text/css'>\n",
    ".CodeMirror{\n",
    "font-size: 22px;\n",
    "</style>"
   ]
  },
  {
   "cell_type": "code",
   "execution_count": 2,
   "id": "eec097dd",
   "metadata": {},
   "outputs": [],
   "source": [
    "%load_ext autoreload\n",
    "%autoreload 2"
   ]
  },
  {
   "cell_type": "code",
   "execution_count": 3,
   "id": "ffe003c7",
   "metadata": {},
   "outputs": [
    {
     "name": "stdout",
     "output_type": "stream",
     "text": [
      "  (0, 0)\t0.12821481198176266\n",
      "  (0, 1)\t0.42606219157886194\n",
      "  (0, 5)\t0.7484508367240114\n",
      "  (0, 9)\t0.9286109998388361\n",
      "  (0, 12)\t0.720153412653819\n",
      "  (0, 13)\t0.3688460419314231\n",
      "  (0, 14)\t0.9671838467389077\n",
      "  (0, 16)\t0.8435955824153251\n",
      "  (0, 26)\t0.32264103218348095\n",
      "  (0, 29)\t0.7316795201924203\n",
      "  (0, 41)\t0.9082786103824857\n",
      "  (0, 45)\t0.6642493131476351\n",
      "  (0, 46)\t0.4002506257167464\n",
      "  (0, 47)\t0.6793182226610359\n",
      "  (0, 51)\t0.08011254168279891\n",
      "  (0, 57)\t0.23596436760461015\n",
      "  (0, 58)\t0.7071005404019947\n",
      "  (0, 60)\t0.3451925438360357\n",
      "  (0, 62)\t0.2714487830723791\n",
      "  (0, 64)\t0.3643556117709166\n",
      "  (0, 65)\t0.7028464502393845\n",
      "  (0, 67)\t0.8326550559078978\n",
      "  (0, 69)\t0.3833779123542014\n",
      "  (0, 74)\t0.39265989631655573\n",
      "  (0, 75)\t0.03911735358966595\n",
      "  :\t:\n",
      "  (99, 1)\t0.33073440792809106\n",
      "  (99, 2)\t0.8352973792870935\n",
      "  (99, 13)\t0.3666281604831444\n",
      "  (99, 18)\t0.31747113256427817\n",
      "  (99, 28)\t0.8001840359285568\n",
      "  (99, 31)\t0.4878600329847357\n",
      "  (99, 32)\t0.631560352728154\n",
      "  (99, 36)\t0.5274923851463258\n",
      "  (99, 37)\t0.9048882333134184\n",
      "  (99, 41)\t0.30399404435580424\n",
      "  (99, 43)\t0.9754118579949161\n",
      "  (99, 48)\t0.26397534647863197\n",
      "  (99, 54)\t0.06600784874261667\n",
      "  (99, 58)\t0.30086245746938245\n",
      "  (99, 63)\t0.6677074892112604\n",
      "  (99, 65)\t0.6223140942383205\n",
      "  (99, 67)\t0.12052168823430454\n",
      "  (99, 70)\t0.1814979526649637\n",
      "  (99, 71)\t0.71832451943315\n",
      "  (99, 74)\t0.35128198750219153\n",
      "  (99, 76)\t0.20379355911722496\n",
      "  (99, 79)\t0.854717701614499\n",
      "  (99, 82)\t0.19148567608704659\n",
      "  (99, 89)\t0.11436430767597494\n",
      "  (99, 96)\t0.8889603151655905\n"
     ]
    }
   ],
   "source": [
    "import numpy as np\n",
    "import scipy\n",
    "from scipy.sparse import random\n",
    "\n",
    "m = 100  # Number of rows\n",
    "n = 100  # Number of columns\n",
    "\n",
    "# Generate a random sparse matrix\n",
    "density = 0.3  # Density of non-zero elements\n",
    "sparse_matrix = random(m, n, density=density, format='csr')\n",
    "\n",
    "print(sparse_matrix)\n"
   ]
  },
  {
   "cell_type": "code",
   "execution_count": 4,
   "id": "aa7a2d00",
   "metadata": {},
   "outputs": [],
   "source": [
    "import numpy as np\n",
    "\n",
    "def matrix_factorization(A, d, num_iterations, learning_rate):\n",
    "    m, n = A.shape\n",
    "    U_history = []\n",
    "    V_history = []\n",
    "    loss_history = []\n",
    "\n",
    "\n",
    "    # Initialize U and V with random values\n",
    "    U = np.random.rand(m, d)\n",
    "    V = np.random.rand(n, d)\n",
    "    U_history.append(U.reshape((1,-1)))\n",
    "    V_history.append(V.reshape((1,-1)))\n",
    "\n",
    "    for iteration in range(num_iterations):\n",
    "        # Compute the error matrix\n",
    "        error = A - np.dot(U, V.T)\n",
    "        # Compute the gradients for U and V\n",
    "        grad_U = -2 * np.dot(error, V)\n",
    "        grad_V = -2 * np.dot(error.T, U)\n",
    "\n",
    "        # Update U and V using gradient descent\n",
    "        U -= learning_rate * grad_U\n",
    "        V -= learning_rate * grad_V\n",
    "        \n",
    "        loss_history.append(np.linalg.norm(error)/(m * n))\n",
    "        U_history.append(U.reshape((1,-1)))\n",
    "        V_history.append(V.reshape((1,-1)))\n",
    "#         print('the error of iteration %d is %f' % (iteration, loss_history[-1]))\n",
    "\n",
    "    return U, V, U_history, V_history, loss_history"
   ]
  },
  {
   "cell_type": "code",
   "execution_count": 5,
   "id": "1ee20568",
   "metadata": {},
   "outputs": [],
   "source": [
    "A = scipy.sparse.csr_matrix(sparse_matrix)\n",
    "d = 10\n",
    "num_iterations = 100\n",
    "learning_rate = 0.001"
   ]
  },
  {
   "cell_type": "code",
   "execution_count": 6,
   "id": "31237e7c",
   "metadata": {
    "scrolled": false
   },
   "outputs": [],
   "source": [
    "U, V, U_history, V_history, loss_history = matrix_factorization(A, d, num_iterations, learning_rate)"
   ]
  },
  {
   "cell_type": "code",
   "execution_count": 7,
   "id": "791b309a",
   "metadata": {},
   "outputs": [
    {
     "data": {
      "image/png": "[encoded data removed]",
      "text/plain": [
       "<Figure size 640x480 with 1 Axes>"
      ]
     },
     "metadata": {},
     "output_type": "display_data"
    }
   ],
   "source": [
    "import matplotlib.pyplot as plt\n",
    "plt.plot(loss_history)\n",
    "plt.xlabel('Iteration')\n",
    "plt.ylabel('Loss')\n",
    "plt.yscale('log')\n",
    "plt.title('Loss over Iterations')\n",
    "plt.show()"
   ]
  },
  {
   "cell_type": "code",
   "execution_count": 8,
   "id": "78a8561d",
   "metadata": {},
   "outputs": [
    {
     "name": "stdout",
     "output_type": "stream",
     "text": [
      "(101, 1, 1000)\n"
     ]
    }
   ],
   "source": [
    "U_history = np.array(U_history)\n",
    "print(np.shape(U_history))\n",
    "U_history_x = np.reshape(U_history[:-1], (num_iterations, -1))\n",
    "U_history_y = np.reshape(U_history[1:], (num_iterations, -1))\n",
    "V_history = np.array(V_history)\n",
    "V_history_x = np.reshape(V_history[:-1], (num_iterations, -1))\n",
    "V_history_y = np.reshape(V_history[1:], (num_iterations, -1))"
   ]
  },
  {
   "cell_type": "code",
   "execution_count": 9,
   "id": "637ecf35",
   "metadata": {},
   "outputs": [],
   "source": [
    "U_data_x, U_data_y, V_data_x, V_data_y = [U_history_x], [U_history_y], [V_history_x], [V_history_y]"
   ]
  },
  {
   "cell_type": "code",
   "execution_count": 10,
   "id": "5f7aa28c",
   "metadata": {},
   "outputs": [],
   "source": [
    "training_num = 1000\n",
    "for i in range(1, training_num):\n",
    "    U, V, U_history, V_history, loss_history = matrix_factorization(A, d, num_iterations, learning_rate)\n",
    "    U_history = np.array(U_history)\n",
    "    U_history_x = np.reshape(U_history[:-1], (num_iterations, -1))\n",
    "    U_history_y = np.reshape(U_history[1:], (num_iterations, -1))\n",
    "    V_history = np.array(V_history)\n",
    "    V_history_x = np.reshape(V_history[:-1], (num_iterations, -1))\n",
    "    V_history_y = np.reshape(V_history[1:], (num_iterations, -1))\n",
    "    U_data_x.append(U_history_x)\n",
    "    U_data_y.append(U_history_y)\n",
    "    V_data_x.append(V_history_x)\n",
    "    V_data_y.append(V_history_y)\n",
    "\n",
    "U_data_x = np.concatenate(U_data_x, axis=0)\n",
    "U_data_y = np.concatenate(U_data_y, axis=0)\n",
    "V_data_x = np.concatenate(V_data_x, axis=0)\n",
    "V_data_y = np.concatenate(V_data_y, axis=0)"
   ]
  },
  {
   "cell_type": "code",
   "execution_count": 11,
   "id": "577b76a9",
   "metadata": {},
   "outputs": [
    {
     "data": {
      "text/plain": [
       "(100000, 1000)"
      ]
     },
     "execution_count": 11,
     "metadata": {},
     "output_type": "execute_result"
    }
   ],
   "source": [
    "np.shape(V_data_x)"
   ]
  },
  {
   "cell_type": "code",
   "execution_count": 12,
   "id": "774fdb19",
   "metadata": {},
   "outputs": [],
   "source": [
    "para_data_x = np.concatenate((U_data_x, V_data_x), axis = 1)\n",
    "para_data_y = np.concatenate((U_data_y, V_data_y), axis = 1)"
   ]
  },
  {
   "cell_type": "code",
   "execution_count": 31,
   "id": "d79a2d6b",
   "metadata": {},
   "outputs": [],
   "source": [
    "A_dense = A.toarray()"
   ]
  },
  {
   "cell_type": "code",
   "execution_count": 13,
   "id": "50ce41f7",
   "metadata": {},
   "outputs": [],
   "source": [
    "# Build the model\n",
    "from tensorflow.keras.layers import Layer, Dense\n",
    "from tensorflow.keras.layers import Input, Add, Multiply, Lambda, Concatenate\n",
    "from tensorflow.keras.models import Model\n",
    "from tensorflow.keras.optimizers.legacy import Adam\n",
    "import numpy as np\n",
    "import tensorflow as tf\n",
    "from tensorflow import keras\n",
    "\n",
    "class DicNN(Layer):\n",
    "    \"\"\"\n",
    "    Trainable disctionries\n",
    "    \"\"\"\n",
    "    \n",
    "    def __init__(self, n_input, layer_sizes=[128,128,128], n_psi_train=64, **kwargs):\n",
    "        \"\"\"_summary_\n",
    "        Args:\n",
    "            layer_sizes (list, optional): Number of unit of hidden layer, activation = 'tanh'. Defaults to [64, 64].\n",
    "            n_psi_train (int, optional): Number of unit of output layer. Defaults to 22.\n",
    "        \"\"\"\n",
    "        super(DicNN, self).__init__(**kwargs)\n",
    "        self.layer_sizes = layer_sizes\n",
    "        self.input_layer = Dense(self.layer_sizes[0], name='Dic_input', use_bias=False)\n",
    "        self.hidden_layers = [Dense(layer_sizes[i], activation='tanh', name='Dic_hidden_%d'%i) for i in range(len(layer_sizes))]        \n",
    "        self.output_layer = Dense(n_psi_train, name='Dic_output')\n",
    "        self.n_psi_train = n_psi_train\n",
    "        self.inv_input_layer = Dense(self.layer_sizes[-1], name = 'Dic_input_inv', use_bias=False)\n",
    "        self.inv_hidden_layers = [Dense(layer_sizes[-(i+1)], activation='tanh', name='Dic_hidden_%d_inv'%i) for i in range(len(layer_sizes))]\n",
    "        self.inv_output_layer = Dense(n_input, name = 'Dic_output_inv')\n",
    "        self.n_input = n_input\n",
    "        \n",
    "    def call(self, inputs):\n",
    "        psi_x_train = self.input_layer(inputs)\n",
    "        for layer in self.hidden_layers:\n",
    "            psi_x_train = psi_x_train + layer(psi_x_train)\n",
    "        outputs = self.output_layer(psi_x_train)\n",
    "        return outputs\n",
    "    \n",
    "    def inv_call(self, inputs):\n",
    "        x_inv = self.inv_input_layer(inputs)\n",
    "        for layer in self.inv_hidden_layers:\n",
    "            x_inv = x_inv + layer(x_inv)\n",
    "        outputs = self.inv_output_layer(x_inv)\n",
    "        return outputs\n",
    "    \n",
    "    def get_config(self):\n",
    "        config = super(DicNN, self).get_config()\n",
    "        config.update({\n",
    "            'layer_sizes': self.layer_sizes,\n",
    "            'n_psi_train': self.n_psi_train\n",
    "        })\n",
    "        return config"
   ]
  },
  {
   "cell_type": "code",
   "execution_count": 14,
   "id": "317a51af",
   "metadata": {},
   "outputs": [],
   "source": [
    "dic = DicNN(n_input = np.shape(para_data_x)[1], n_psi_train = 106)\n",
    "inputs_x = Input((np.shape(para_data_x)[1],))\n",
    "model_psi = Model(inputs = inputs_x, outputs = dic.call(inputs_x), name = 'model_psi')"
   ]
  },
  {
   "cell_type": "code",
   "execution_count": 38,
   "id": "d2374f02",
   "metadata": {},
   "outputs": [],
   "source": [
    "def matrix_residual(para_data, A, shape):\n",
    "    para_reshape = tf.reshape(para_data, (-1, shape[0], shape[1], shape[2]))\n",
    "    U = para_reshape[:,0,:,:]\n",
    "    V = para_reshape[:,1,:,:]\n",
    "    V_T = tf.transpose(V, perm=[0, 2, 1])\n",
    "    result = tf.matmul(U, V_T)\n",
    "    result_minus_A = tf.subtract(tf.cast(result, tf.float64), tf.tile(tf.expand_dims(A, 0), [tf.shape(para_data)[0], 1, 1]))\n",
    "    return tf.reshape(result_minus_A, (tf.shape(para_data)[0],-1))"
   ]
  },
  {
   "cell_type": "code",
   "execution_count": 39,
   "id": "d961b99d",
   "metadata": {},
   "outputs": [],
   "source": [
    "shape = (2,100,10)"
   ]
  },
  {
   "cell_type": "code",
   "execution_count": 40,
   "id": "18ef2bd4",
   "metadata": {},
   "outputs": [],
   "source": [
    "inputs_x = Input((np.shape(para_data_x)[1],))\n",
    "inputs_y = Input((np.shape(para_data_x)[1],))\n",
    "psi_x = model_psi(inputs_x)\n",
    "psi_y = model_psi(inputs_y)\n",
    "k_layer = Dense(units = dic.n_psi_train, use_bias=False, name = 'k_layer')\n",
    "outputs_x = k_layer(psi_x)\n",
    "outputs = outputs_x - psi_y\n",
    "model_koopman = Model(inputs = [inputs_x, inputs_y], outputs = outputs, name = 'model_koopman')"
   ]
  },
  {
   "cell_type": "code",
   "execution_count": 41,
   "id": "552639d5",
   "metadata": {},
   "outputs": [],
   "source": [
    "inputs_x = Input((np.shape(para_data_x)[1],))\n",
    "psi_x = model_psi(inputs_x)\n",
    "inputs_kpsi = Input((dic.n_psi_train,))\n",
    "model_inv_psi = Model(inputs = inputs_kpsi, outputs = dic.inv_call(inputs_kpsi))\n",
    "model_auto = Model(inputs = inputs_x, outputs = model_inv_psi(psi_x), name = 'model_auto')"
   ]
  },
  {
   "cell_type": "code",
   "execution_count": 42,
   "id": "cbb2e5da",
   "metadata": {},
   "outputs": [],
   "source": [
    "input_x = tf.keras.layers.Input(shape=(para_data_x.shape[1],))\n",
    "input_y = tf.keras.layers.Input(shape=(para_data_x.shape[1],))\n",
    "output_auto = model_auto(input_x)\n",
    "output_koopman = model_koopman([input_x, input_y])\n",
    "output_error = matrix_residual(output_auto, A_dense, shape)\n",
    "model_error = tf.keras.models.Model(inputs=input_x, outputs=output_error, name = 'model_error')\n",
    "combined_model = tf.keras.models.Model(inputs=[input_x, input_y], outputs=[output_error, output_koopman], name = 'model_combined')"
   ]
  },
  {
   "cell_type": "code",
   "execution_count": 30,
   "id": "eca2cf8f",
   "metadata": {},
   "outputs": [
    {
     "data": {
      "text/plain": [
       "<100x100 sparse matrix of type '<class 'numpy.float64'>'\n",
       "\twith 3000 stored elements in Compressed Sparse Row format>"
      ]
     },
     "execution_count": 30,
     "metadata": {},
     "output_type": "execute_result"
    }
   ],
   "source": [
    "A"
   ]
  },
  {
   "cell_type": "code",
   "execution_count": 43,
   "id": "314cda93",
   "metadata": {},
   "outputs": [],
   "source": [
    "# class para_loss(object):\n",
    "#     def __init__(self, lbd, shape):\n",
    "#         self.lbd = lbd\n",
    "#         self.shape = shape\n",
    "    \n",
    "#     def loss_fun(self, y_pred, y_true):\n",
    "#         y_pred_auto = y_pred\n",
    "#         y_true_auto = y_true\n",
    "#         print(tf.shape(y_pred[0]))\n",
    "#         y_pred_auto_reshape = tf.reshape(y_pred_auto, self.shape)\n",
    "#         y_true_auto_reshape = tf.reshape(y_true_auto, self.shape)\n",
    "        \n",
    "#         y_pred_auto_reshape_transposed = tf.transpose(y_pred_auto_reshape[1,:,:])\n",
    "#         y_true_auto_reshape_transposed = tf.transpose(y_true_auto_reshape[1,:,:])\n",
    "        \n",
    "#         output_pred = tf.matmul(y_pred_auto_reshape[0,:,:], y_pred_auto_reshape_transposed)\n",
    "#         output_true = tf.matmul(y_true_auto_reshape[0,:,:], y_true_auto_reshape_transposed)\n",
    "        \n",
    "#         output_pred = tf.reshape(output_pred, (1, -1))\n",
    "#         output_true = tf.reshape(output_true, (1, -1))\n",
    "        \n",
    "#         return self.lbd * tf.keras.losses.MSE(y_pred[1], y_true[1]) + (1 - self.lbd) * tf.keras.losses.MSE(output_pred, output_true)\n"
   ]
  },
  {
   "cell_type": "code",
   "execution_count": 52,
   "id": "a6b9174a",
   "metadata": {},
   "outputs": [],
   "source": [
    "batch_size = 4096\n",
    "epochs = 1000\n",
    "lbd = 0.1"
   ]
  },
  {
   "cell_type": "code",
   "execution_count": 53,
   "id": "5dd76547",
   "metadata": {},
   "outputs": [],
   "source": [
    "# loss = para_loss(lbd, (2,100,10))"
   ]
  },
  {
   "cell_type": "code",
   "execution_count": 54,
   "id": "04665cc6",
   "metadata": {},
   "outputs": [],
   "source": [
    "combined_model.compile(optimizer='adam', loss='mse')"
   ]
  },
  {
   "cell_type": "code",
   "execution_count": 55,
   "id": "c1164ae4",
   "metadata": {},
   "outputs": [],
   "source": [
    "from sklearn.model_selection import train_test_split\n",
    "from sklearn.preprocessing import StandardScaler\n",
    "\n",
    "para_data_x_train, para_data_x_test, para_data_y_train, para_data_y_test = train_test_split(para_data_x, para_data_y, test_size=0.2, random_state=42)\n",
    "\n",
    "scaler = StandardScaler()\n",
    "\n",
    "para_data_x_train_scaled = scaler.fit_transform(para_data_x_train)\n",
    "para_data_y_train_scaled = scaler.fit_transform(para_data_y_train)\n",
    "\n",
    "para_data_x_test_scaled = scaler.transform(para_data_x_test)\n",
    "para_data_y_test_scaled = scaler.transform(para_data_y_test)"
   ]
  },
  {
   "cell_type": "code",
   "execution_count": 56,
   "id": "1620feea",
   "metadata": {},
   "outputs": [
    {
     "data": {
      "text/plain": [
       "(80000, 2000)"
      ]
     },
     "execution_count": 56,
     "metadata": {},
     "output_type": "execute_result"
    }
   ],
   "source": [
    "np.shape(para_data_x_train_scaled)"
   ]
  },
  {
   "cell_type": "code",
   "execution_count": 60,
   "id": "a3644068",
   "metadata": {},
   "outputs": [
    {
     "name": "stdout",
     "output_type": "stream",
     "text": [
      "Epoch 1/1000\n",
      "20/20 [==============================] - ETA: 0s - loss: 0.0536 - tf.reshape_6_loss: 0.0533 - model_koopman_loss: 3.0735e-04"
     ]
    },
    {
     "name": "stderr",
     "output_type": "stream",
     "text": [
      "2023-06-28 22:59:51.202497: I tensorflow/core/common_runtime/executor.cc:1197] [/job:localhost/replica:0/task:0/device:CPU:0] (DEBUG INFO) Executor start aborting (this does not indicate an error and you can ignore this message): INVALID_ARGUMENT: Incompatible shapes: [256,2000] vs. [256,10000]\n",
      "\t [[{{node mean_squared_error/SquaredDifference}}]]\n"
     ]
    },
    {
     "ename": "InvalidArgumentError",
     "evalue": "Graph execution error:\n\nDetected at node 'mean_squared_error/SquaredDifference' defined at (most recent call last):\n    File \"/Users/shiqi/anaconda3/envs/tensor-koopman/lib/python3.9/runpy.py\", line 197, in _run_module_as_main\n      return _run_code(code, main_globals, None,\n    File \"/Users/shiqi/anaconda3/envs/tensor-koopman/lib/python3.9/runpy.py\", line 87, in _run_code\n      exec(code, run_globals)\n    File \"/Users/shiqi/anaconda3/envs/tensor-koopman/lib/python3.9/site-packages/ipykernel_launcher.py\", line 17, in <module>\n      app.launch_new_instance()\n    File \"/Users/shiqi/anaconda3/envs/tensor-koopman/lib/python3.9/site-packages/traitlets/config/application.py\", line 992, in launch_instance\n      app.start()\n    File \"/Users/shiqi/anaconda3/envs/tensor-koopman/lib/python3.9/site-packages/ipykernel/kernelapp.py\", line 711, in start\n      self.io_loop.start()\n    File \"/Users/shiqi/anaconda3/envs/tensor-koopman/lib/python3.9/site-packages/tornado/platform/asyncio.py\", line 215, in start\n      self.asyncio_loop.run_forever()\n    File \"/Users/shiqi/anaconda3/envs/tensor-koopman/lib/python3.9/asyncio/base_events.py\", line 601, in run_forever\n      self._run_once()\n    File \"/Users/shiqi/anaconda3/envs/tensor-koopman/lib/python3.9/asyncio/base_events.py\", line 1905, in _run_once\n      handle._run()\n    File \"/Users/shiqi/anaconda3/envs/tensor-koopman/lib/python3.9/asyncio/events.py\", line 80, in _run\n      self._context.run(self._callback, *self._args)\n    File \"/Users/shiqi/anaconda3/envs/tensor-koopman/lib/python3.9/site-packages/ipykernel/kernelbase.py\", line 510, in dispatch_queue\n      await self.process_one()\n    File \"/Users/shiqi/anaconda3/envs/tensor-koopman/lib/python3.9/site-packages/ipykernel/kernelbase.py\", line 499, in process_one\n      await dispatch(*args)\n    File \"/Users/shiqi/anaconda3/envs/tensor-koopman/lib/python3.9/site-packages/ipykernel/kernelbase.py\", line 406, in dispatch_shell\n      await result\n    File \"/Users/shiqi/anaconda3/envs/tensor-koopman/lib/python3.9/site-packages/ipykernel/kernelbase.py\", line 729, in execute_request\n      reply_content = await reply_content\n    File \"/Users/shiqi/anaconda3/envs/tensor-koopman/lib/python3.9/site-packages/ipykernel/ipkernel.py\", line 411, in do_execute\n      res = shell.run_cell(\n    File \"/Users/shiqi/anaconda3/envs/tensor-koopman/lib/python3.9/site-packages/ipykernel/zmqshell.py\", line 531, in run_cell\n      return super().run_cell(*args, **kwargs)\n    File \"/Users/shiqi/anaconda3/envs/tensor-koopman/lib/python3.9/site-packages/IPython/core/interactiveshell.py\", line 3006, in run_cell\n      result = self._run_cell(\n    File \"/Users/shiqi/anaconda3/envs/tensor-koopman/lib/python3.9/site-packages/IPython/core/interactiveshell.py\", line 3061, in _run_cell\n      result = runner(coro)\n    File \"/Users/shiqi/anaconda3/envs/tensor-koopman/lib/python3.9/site-packages/IPython/core/async_helpers.py\", line 129, in _pseudo_sync_runner\n      coro.send(None)\n    File \"/Users/shiqi/anaconda3/envs/tensor-koopman/lib/python3.9/site-packages/IPython/core/interactiveshell.py\", line 3266, in run_cell_async\n      has_raised = await self.run_ast_nodes(code_ast.body, cell_name,\n    File \"/Users/shiqi/anaconda3/envs/tensor-koopman/lib/python3.9/site-packages/IPython/core/interactiveshell.py\", line 3445, in run_ast_nodes\n      if await self.run_code(code, result, async_=asy):\n    File \"/Users/shiqi/anaconda3/envs/tensor-koopman/lib/python3.9/site-packages/IPython/core/interactiveshell.py\", line 3505, in run_code\n      exec(code_obj, self.user_global_ns, self.user_ns)\n    File \"/var/folders/pd/z8wjms493s5bf5trwrfx7pqc0000gn/T/ipykernel_832/4182873786.py\", line 7, in <module>\n      history = combined_model.fit(\n    File \"/Users/shiqi/anaconda3/envs/tensor-koopman/lib/python3.9/site-packages/keras/utils/traceback_utils.py\", line 65, in error_handler\n      return fn(*args, **kwargs)\n    File \"/Users/shiqi/anaconda3/envs/tensor-koopman/lib/python3.9/site-packages/keras/engine/training.py\", line 1729, in fit\n      val_logs = self.evaluate(\n    File \"/Users/shiqi/anaconda3/envs/tensor-koopman/lib/python3.9/site-packages/keras/utils/traceback_utils.py\", line 65, in error_handler\n      return fn(*args, **kwargs)\n    File \"/Users/shiqi/anaconda3/envs/tensor-koopman/lib/python3.9/site-packages/keras/engine/training.py\", line 2072, in evaluate\n      tmp_logs = self.test_function(iterator)\n    File \"/Users/shiqi/anaconda3/envs/tensor-koopman/lib/python3.9/site-packages/keras/engine/training.py\", line 1852, in test_function\n      return step_function(self, iterator)\n    File \"/Users/shiqi/anaconda3/envs/tensor-koopman/lib/python3.9/site-packages/keras/engine/training.py\", line 1836, in step_function\n      outputs = model.distribute_strategy.run(run_step, args=(data,))\n    File \"/Users/shiqi/anaconda3/envs/tensor-koopman/lib/python3.9/site-packages/keras/engine/training.py\", line 1824, in run_step\n      outputs = model.test_step(data)\n    File \"/Users/shiqi/anaconda3/envs/tensor-koopman/lib/python3.9/site-packages/keras/engine/training.py\", line 1790, in test_step\n      self.compute_loss(x, y, y_pred, sample_weight)\n    File \"/Users/shiqi/anaconda3/envs/tensor-koopman/lib/python3.9/site-packages/keras/engine/training.py\", line 1109, in compute_loss\n      return self.compiled_loss(\n    File \"/Users/shiqi/anaconda3/envs/tensor-koopman/lib/python3.9/site-packages/keras/engine/compile_utils.py\", line 265, in __call__\n      loss_value = loss_obj(y_t, y_p, sample_weight=sw)\n    File \"/Users/shiqi/anaconda3/envs/tensor-koopman/lib/python3.9/site-packages/keras/losses.py\", line 142, in __call__\n      losses = call_fn(y_true, y_pred)\n    File \"/Users/shiqi/anaconda3/envs/tensor-koopman/lib/python3.9/site-packages/keras/losses.py\", line 268, in call\n      return ag_fn(y_true, y_pred, **self._fn_kwargs)\n    File \"/Users/shiqi/anaconda3/envs/tensor-koopman/lib/python3.9/site-packages/keras/losses.py\", line 1470, in mean_squared_error\n      return backend.mean(tf.math.squared_difference(y_pred, y_true), axis=-1)\nNode: 'mean_squared_error/SquaredDifference'\nIncompatible shapes: [256,2000] vs. [256,10000]\n\t [[{{node mean_squared_error/SquaredDifference}}]] [Op:__inference_test_function_10639]",
     "output_type": "error",
     "traceback": [
      "\u001b[0;31m---------------------------------------------------------------------------\u001b[0m",
      "\u001b[0;31mInvalidArgumentError\u001b[0m                      Traceback (most recent call last)",
      "Cell \u001b[0;32mIn[60], line 7\u001b[0m\n\u001b[1;32m      3\u001b[0m log_dir \u001b[38;5;241m=\u001b[39m \u001b[38;5;124m\"\u001b[39m\u001b[38;5;124mlogs/\u001b[39m\u001b[38;5;124m\"\u001b[39m\n\u001b[1;32m      5\u001b[0m tensorboard_callback \u001b[38;5;241m=\u001b[39m TensorBoard(log_dir\u001b[38;5;241m=\u001b[39mlog_dir, histogram_freq\u001b[38;5;241m=\u001b[39m\u001b[38;5;241m1\u001b[39m)\n\u001b[0;32m----> 7\u001b[0m history \u001b[38;5;241m=\u001b[39m \u001b[43mcombined_model\u001b[49m\u001b[38;5;241;43m.\u001b[39;49m\u001b[43mfit\u001b[49m\u001b[43m(\u001b[49m\n\u001b[1;32m      8\u001b[0m \u001b[43m    \u001b[49m\u001b[43m[\u001b[49m\u001b[43mpara_data_x_train_scaled\u001b[49m\u001b[43m,\u001b[49m\u001b[43m \u001b[49m\u001b[43mpara_data_y_train_scaled\u001b[49m\u001b[43m]\u001b[49m\u001b[43m,\u001b[49m\n\u001b[1;32m      9\u001b[0m \u001b[43m    \u001b[49m\u001b[43m[\u001b[49m\u001b[43mtf\u001b[49m\u001b[38;5;241;43m.\u001b[39;49m\u001b[43mzeros\u001b[49m\u001b[43m(\u001b[49m\u001b[43m(\u001b[49m\u001b[43mtf\u001b[49m\u001b[38;5;241;43m.\u001b[39;49m\u001b[43mshape\u001b[49m\u001b[43m(\u001b[49m\u001b[43mpara_data_x_train_scaled\u001b[49m\u001b[43m)\u001b[49m\u001b[43m[\u001b[49m\u001b[38;5;241;43m0\u001b[39;49m\u001b[43m]\u001b[49m\u001b[43m,\u001b[49m\u001b[43m \u001b[49m\u001b[38;5;241;43m10000\u001b[39;49m\u001b[43m)\u001b[49m\u001b[43m)\u001b[49m\u001b[43m,\u001b[49m\u001b[43m \u001b[49m\u001b[43mtf\u001b[49m\u001b[38;5;241;43m.\u001b[39;49m\u001b[43mzeros_like\u001b[49m\u001b[43m(\u001b[49m\u001b[43mmodel_psi\u001b[49m\u001b[43m(\u001b[49m\u001b[43mpara_data_x_train_scaled\u001b[49m\u001b[43m)\u001b[49m\u001b[43m)\u001b[49m\u001b[43m]\u001b[49m\u001b[43m,\u001b[49m\n\u001b[1;32m     10\u001b[0m \u001b[43m    \u001b[49m\u001b[43mvalidation_data\u001b[49m\u001b[38;5;241;43m=\u001b[39;49m\u001b[43m(\u001b[49m\n\u001b[1;32m     11\u001b[0m \u001b[43m        \u001b[49m\u001b[43m[\u001b[49m\u001b[43mpara_data_x_test_scaled\u001b[49m\u001b[43m,\u001b[49m\u001b[43m \u001b[49m\u001b[43mpara_data_y_test_scaled\u001b[49m\u001b[43m]\u001b[49m\u001b[43m,\u001b[49m\n\u001b[1;32m     12\u001b[0m \u001b[43m        \u001b[49m\u001b[43m[\u001b[49m\u001b[43mtf\u001b[49m\u001b[38;5;241;43m.\u001b[39;49m\u001b[43mzeros\u001b[49m\u001b[43m(\u001b[49m\u001b[43m(\u001b[49m\u001b[43mtf\u001b[49m\u001b[38;5;241;43m.\u001b[39;49m\u001b[43mshape\u001b[49m\u001b[43m(\u001b[49m\u001b[43mpara_data_x_test_scaled\u001b[49m\u001b[43m)\u001b[49m\u001b[43m[\u001b[49m\u001b[38;5;241;43m0\u001b[39;49m\u001b[43m]\u001b[49m\u001b[43m,\u001b[49m\u001b[43m \u001b[49m\u001b[38;5;241;43m10000\u001b[39;49m\u001b[43m)\u001b[49m\u001b[43m)\u001b[49m\u001b[43m,\u001b[49m\u001b[43m \u001b[49m\u001b[43mtf\u001b[49m\u001b[38;5;241;43m.\u001b[39;49m\u001b[43mzeros_like\u001b[49m\u001b[43m(\u001b[49m\u001b[43mmodel_psi\u001b[49m\u001b[43m(\u001b[49m\u001b[43mpara_data_x_test_scaled\u001b[49m\u001b[43m)\u001b[49m\u001b[43m)\u001b[49m\u001b[43m]\u001b[49m\n\u001b[1;32m     13\u001b[0m \u001b[43m    \u001b[49m\u001b[43m)\u001b[49m\u001b[43m,\u001b[49m\n\u001b[1;32m     14\u001b[0m \u001b[43m    \u001b[49m\u001b[43mverbose\u001b[49m\u001b[38;5;241;43m=\u001b[39;49m\u001b[38;5;241;43m1\u001b[39;49m\u001b[43m,\u001b[49m\n\u001b[1;32m     15\u001b[0m \u001b[43m    \u001b[49m\u001b[43mepochs\u001b[49m\u001b[38;5;241;43m=\u001b[39;49m\u001b[43mepochs\u001b[49m\u001b[43m,\u001b[49m\n\u001b[1;32m     16\u001b[0m \u001b[43m    \u001b[49m\u001b[43mbatch_size\u001b[49m\u001b[38;5;241;43m=\u001b[39;49m\u001b[43mbatch_size\u001b[49m\u001b[43m,\u001b[49m\n\u001b[1;32m     17\u001b[0m \u001b[43m    \u001b[49m\u001b[43mcallbacks\u001b[49m\u001b[38;5;241;43m=\u001b[39;49m\u001b[43m[\u001b[49m\u001b[43mtensorboard_callback\u001b[49m\u001b[43m]\u001b[49m\n\u001b[1;32m     18\u001b[0m \u001b[43m)\u001b[49m\n",
      "File \u001b[0;32m~/anaconda3/envs/tensor-koopman/lib/python3.9/site-packages/keras/utils/traceback_utils.py:70\u001b[0m, in \u001b[0;36mfilter_traceback.<locals>.error_handler\u001b[0;34m(*args, **kwargs)\u001b[0m\n\u001b[1;32m     67\u001b[0m     filtered_tb \u001b[38;5;241m=\u001b[39m _process_traceback_frames(e\u001b[38;5;241m.\u001b[39m__traceback__)\n\u001b[1;32m     68\u001b[0m     \u001b[38;5;66;03m# To get the full stack trace, call:\u001b[39;00m\n\u001b[1;32m     69\u001b[0m     \u001b[38;5;66;03m# `tf.debugging.disable_traceback_filtering()`\u001b[39;00m\n\u001b[0;32m---> 70\u001b[0m     \u001b[38;5;28;01mraise\u001b[39;00m e\u001b[38;5;241m.\u001b[39mwith_traceback(filtered_tb) \u001b[38;5;28;01mfrom\u001b[39;00m \u001b[38;5;28;01mNone\u001b[39;00m\n\u001b[1;32m     71\u001b[0m \u001b[38;5;28;01mfinally\u001b[39;00m:\n\u001b[1;32m     72\u001b[0m     \u001b[38;5;28;01mdel\u001b[39;00m filtered_tb\n",
      "File \u001b[0;32m~/anaconda3/envs/tensor-koopman/lib/python3.9/site-packages/tensorflow/python/eager/execute.py:52\u001b[0m, in \u001b[0;36mquick_execute\u001b[0;34m(op_name, num_outputs, inputs, attrs, ctx, name)\u001b[0m\n\u001b[1;32m     50\u001b[0m \u001b[38;5;28;01mtry\u001b[39;00m:\n\u001b[1;32m     51\u001b[0m   ctx\u001b[38;5;241m.\u001b[39mensure_initialized()\n\u001b[0;32m---> 52\u001b[0m   tensors \u001b[38;5;241m=\u001b[39m pywrap_tfe\u001b[38;5;241m.\u001b[39mTFE_Py_Execute(ctx\u001b[38;5;241m.\u001b[39m_handle, device_name, op_name,\n\u001b[1;32m     53\u001b[0m                                       inputs, attrs, num_outputs)\n\u001b[1;32m     54\u001b[0m \u001b[38;5;28;01mexcept\u001b[39;00m core\u001b[38;5;241m.\u001b[39m_NotOkStatusException \u001b[38;5;28;01mas\u001b[39;00m e:\n\u001b[1;32m     55\u001b[0m   \u001b[38;5;28;01mif\u001b[39;00m name \u001b[38;5;129;01mis\u001b[39;00m \u001b[38;5;129;01mnot\u001b[39;00m \u001b[38;5;28;01mNone\u001b[39;00m:\n",
      "\u001b[0;31mInvalidArgumentError\u001b[0m: Graph execution error:\n\nDetected at node 'mean_squared_error/SquaredDifference' defined at (most recent call last):\n    File \"/Users/shiqi/anaconda3/envs/tensor-koopman/lib/python3.9/runpy.py\", line 197, in _run_module_as_main\n      return _run_code(code, main_globals, None,\n    File \"/Users/shiqi/anaconda3/envs/tensor-koopman/lib/python3.9/runpy.py\", line 87, in _run_code\n      exec(code, run_globals)\n    File \"/Users/shiqi/anaconda3/envs/tensor-koopman/lib/python3.9/site-packages/ipykernel_launcher.py\", line 17, in <module>\n      app.launch_new_instance()\n    File \"/Users/shiqi/anaconda3/envs/tensor-koopman/lib/python3.9/site-packages/traitlets/config/application.py\", line 992, in launch_instance\n      app.start()\n    File \"/Users/shiqi/anaconda3/envs/tensor-koopman/lib/python3.9/site-packages/ipykernel/kernelapp.py\", line 711, in start\n      self.io_loop.start()\n    File \"/Users/shiqi/anaconda3/envs/tensor-koopman/lib/python3.9/site-packages/tornado/platform/asyncio.py\", line 215, in start\n      self.asyncio_loop.run_forever()\n    File \"/Users/shiqi/anaconda3/envs/tensor-koopman/lib/python3.9/asyncio/base_events.py\", line 601, in run_forever\n      self._run_once()\n    File \"/Users/shiqi/anaconda3/envs/tensor-koopman/lib/python3.9/asyncio/base_events.py\", line 1905, in _run_once\n      handle._run()\n    File \"/Users/shiqi/anaconda3/envs/tensor-koopman/lib/python3.9/asyncio/events.py\", line 80, in _run\n      self._context.run(self._callback, *self._args)\n    File \"/Users/shiqi/anaconda3/envs/tensor-koopman/lib/python3.9/site-packages/ipykernel/kernelbase.py\", line 510, in dispatch_queue\n      await self.process_one()\n    File \"/Users/shiqi/anaconda3/envs/tensor-koopman/lib/python3.9/site-packages/ipykernel/kernelbase.py\", line 499, in process_one\n      await dispatch(*args)\n    File \"/Users/shiqi/anaconda3/envs/tensor-koopman/lib/python3.9/site-packages/ipykernel/kernelbase.py\", line 406, in dispatch_shell\n      await result\n    File \"/Users/shiqi/anaconda3/envs/tensor-koopman/lib/python3.9/site-packages/ipykernel/kernelbase.py\", line 729, in execute_request\n      reply_content = await reply_content\n    File \"/Users/shiqi/anaconda3/envs/tensor-koopman/lib/python3.9/site-packages/ipykernel/ipkernel.py\", line 411, in do_execute\n      res = shell.run_cell(\n    File \"/Users/shiqi/anaconda3/envs/tensor-koopman/lib/python3.9/site-packages/ipykernel/zmqshell.py\", line 531, in run_cell\n      return super().run_cell(*args, **kwargs)\n    File \"/Users/shiqi/anaconda3/envs/tensor-koopman/lib/python3.9/site-packages/IPython/core/interactiveshell.py\", line 3006, in run_cell\n      result = self._run_cell(\n    File \"/Users/shiqi/anaconda3/envs/tensor-koopman/lib/python3.9/site-packages/IPython/core/interactiveshell.py\", line 3061, in _run_cell\n      result = runner(coro)\n    File \"/Users/shiqi/anaconda3/envs/tensor-koopman/lib/python3.9/site-packages/IPython/core/async_helpers.py\", line 129, in _pseudo_sync_runner\n      coro.send(None)\n    File \"/Users/shiqi/anaconda3/envs/tensor-koopman/lib/python3.9/site-packages/IPython/core/interactiveshell.py\", line 3266, in run_cell_async\n      has_raised = await self.run_ast_nodes(code_ast.body, cell_name,\n    File \"/Users/shiqi/anaconda3/envs/tensor-koopman/lib/python3.9/site-packages/IPython/core/interactiveshell.py\", line 3445, in run_ast_nodes\n      if await self.run_code(code, result, async_=asy):\n    File \"/Users/shiqi/anaconda3/envs/tensor-koopman/lib/python3.9/site-packages/IPython/core/interactiveshell.py\", line 3505, in run_code\n      exec(code_obj, self.user_global_ns, self.user_ns)\n    File \"/var/folders/pd/z8wjms493s5bf5trwrfx7pqc0000gn/T/ipykernel_832/4182873786.py\", line 7, in <module>\n      history = combined_model.fit(\n    File \"/Users/shiqi/anaconda3/envs/tensor-koopman/lib/python3.9/site-packages/keras/utils/traceback_utils.py\", line 65, in error_handler\n      return fn(*args, **kwargs)\n    File \"/Users/shiqi/anaconda3/envs/tensor-koopman/lib/python3.9/site-packages/keras/engine/training.py\", line 1729, in fit\n      val_logs = self.evaluate(\n    File \"/Users/shiqi/anaconda3/envs/tensor-koopman/lib/python3.9/site-packages/keras/utils/traceback_utils.py\", line 65, in error_handler\n      return fn(*args, **kwargs)\n    File \"/Users/shiqi/anaconda3/envs/tensor-koopman/lib/python3.9/site-packages/keras/engine/training.py\", line 2072, in evaluate\n      tmp_logs = self.test_function(iterator)\n    File \"/Users/shiqi/anaconda3/envs/tensor-koopman/lib/python3.9/site-packages/keras/engine/training.py\", line 1852, in test_function\n      return step_function(self, iterator)\n    File \"/Users/shiqi/anaconda3/envs/tensor-koopman/lib/python3.9/site-packages/keras/engine/training.py\", line 1836, in step_function\n      outputs = model.distribute_strategy.run(run_step, args=(data,))\n    File \"/Users/shiqi/anaconda3/envs/tensor-koopman/lib/python3.9/site-packages/keras/engine/training.py\", line 1824, in run_step\n      outputs = model.test_step(data)\n    File \"/Users/shiqi/anaconda3/envs/tensor-koopman/lib/python3.9/site-packages/keras/engine/training.py\", line 1790, in test_step\n      self.compute_loss(x, y, y_pred, sample_weight)\n    File \"/Users/shiqi/anaconda3/envs/tensor-koopman/lib/python3.9/site-packages/keras/engine/training.py\", line 1109, in compute_loss\n      return self.compiled_loss(\n    File \"/Users/shiqi/anaconda3/envs/tensor-koopman/lib/python3.9/site-packages/keras/engine/compile_utils.py\", line 265, in __call__\n      loss_value = loss_obj(y_t, y_p, sample_weight=sw)\n    File \"/Users/shiqi/anaconda3/envs/tensor-koopman/lib/python3.9/site-packages/keras/losses.py\", line 142, in __call__\n      losses = call_fn(y_true, y_pred)\n    File \"/Users/shiqi/anaconda3/envs/tensor-koopman/lib/python3.9/site-packages/keras/losses.py\", line 268, in call\n      return ag_fn(y_true, y_pred, **self._fn_kwargs)\n    File \"/Users/shiqi/anaconda3/envs/tensor-koopman/lib/python3.9/site-packages/keras/losses.py\", line 1470, in mean_squared_error\n      return backend.mean(tf.math.squared_difference(y_pred, y_true), axis=-1)\nNode: 'mean_squared_error/SquaredDifference'\nIncompatible shapes: [256,2000] vs. [256,10000]\n\t [[{{node mean_squared_error/SquaredDifference}}]] [Op:__inference_test_function_10639]"
     ]
    }
   ],
   "source": [
    "from tensorflow.keras.callbacks import TensorBoard\n",
    "\n",
    "log_dir = \"logs/\"\n",
    "\n",
    "tensorboard_callback = TensorBoard(log_dir=log_dir, histogram_freq=1)\n",
    "\n",
    "history = combined_model.fit(\n",
    "    [para_data_x_train_scaled, para_data_y_train_scaled],\n",
    "    [tf.zeros((tf.shape(para_data_x_train_scaled)[0], 10000)), tf.zeros_like(model_psi(para_data_x_train_scaled))],\n",
    "    validation_data=(\n",
    "        [para_data_x_test_scaled, para_data_y_test_scaled],\n",
    "        [tf.zeros((tf.shape(para_data_x_test_scaled)[0], 10000)), tf.zeros_like(model_psi(para_data_x_test_scaled))]\n",
    "    ),\n",
    "    verbose=1,\n",
    "    epochs=epochs,\n",
    "    batch_size=batch_size,\n",
    "    callbacks=[tensorboard_callback]\n",
    ")\n"
   ]
  },
  {
   "cell_type": "code",
   "execution_count": null,
   "id": "6aeb641b",
   "metadata": {},
   "outputs": [],
   "source": [
    "combined_model([para_data_x_train_scaled, para_data_y_train_scaled])"
   ]
  },
  {
   "cell_type": "code",
   "execution_count": null,
   "id": "2dc51cca",
   "metadata": {},
   "outputs": [],
   "source": []
  }
 ],
 "metadata": {
  "kernelspec": {
   "display_name": "Python [conda env:tensor-koopman] *",
   "language": "python",
   "name": "conda-env-tensor-koopman-py"
  },
  "language_info": {
   "codemirror_mode": {
    "name": "ipython",
    "version": 3
   },
   "file_extension": ".py",
   "mimetype": "text/x-python",
   "name": "python",
   "nbconvert_exporter": "python",
   "pygments_lexer": "ipython3",
   "version": "3.9.16"
  }
 },
 "nbformat": 4,
 "nbformat_minor": 5
}
