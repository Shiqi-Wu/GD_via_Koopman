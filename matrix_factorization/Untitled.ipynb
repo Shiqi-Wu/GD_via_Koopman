{
 "cells": [
  {
   "cell_type": "code",
   "execution_count": 1,
   "id": "577df1a0",
   "metadata": {},
   "outputs": [
    {
     "data": {
      "text/html": [
       "<style type='text/css'>\n",
       ".CodeMirror{\n",
       "font-size: 22px;\n",
       "</style>\n"
      ],
      "text/plain": [
       "<IPython.core.display.HTML object>"
      ]
     },
     "metadata": {},
     "output_type": "display_data"
    }
   ],
   "source": [
    "%%html\n",
    "<style type='text/css'>\n",
    ".CodeMirror{\n",
    "font-size: 22px;\n",
    "</style>"
   ]
  },
  {
   "cell_type": "code",
   "execution_count": 2,
   "id": "eec097dd",
   "metadata": {},
   "outputs": [],
   "source": [
    "%load_ext autoreload\n",
    "%autoreload 2"
   ]
  },
  {
   "cell_type": "code",
   "execution_count": 3,
   "id": "ffe003c7",
   "metadata": {},
   "outputs": [
    {
     "name": "stdout",
     "output_type": "stream",
     "text": [
      "  (0, 2)\t0.8211170555612523\n",
      "  (0, 4)\t0.6201030561242417\n",
      "  (0, 7)\t0.4508187762673548\n",
      "  (0, 8)\t0.3334960095367562\n",
      "  (0, 10)\t0.6815900014907319\n",
      "  (0, 15)\t0.8636517706162854\n",
      "  (0, 17)\t0.0075562601480820835\n",
      "  (0, 21)\t0.8509684120544593\n",
      "  (0, 23)\t0.3669747521900678\n",
      "  (0, 30)\t0.9159234705232763\n",
      "  (0, 33)\t0.2775573491167861\n",
      "  (0, 43)\t0.6494402835714504\n",
      "  (0, 45)\t0.22773179057158555\n",
      "  (0, 47)\t0.725721114985638\n",
      "  (0, 48)\t0.2982376478507962\n",
      "  (0, 52)\t0.20605351226676094\n",
      "  (0, 57)\t0.9730512297935673\n",
      "  (0, 58)\t0.12853554857094485\n",
      "  (0, 62)\t0.5701508537668696\n",
      "  (0, 64)\t0.20211129693213803\n",
      "  (0, 66)\t0.40580973545118215\n",
      "  (0, 70)\t0.02969983879685345\n",
      "  (0, 74)\t0.7750156910617766\n",
      "  (0, 75)\t0.46087887296306784\n",
      "  (0, 76)\t0.40057558488710165\n",
      "  :\t:\n",
      "  (99, 27)\t0.40346260565250347\n",
      "  (99, 28)\t0.2942620931723532\n",
      "  (99, 29)\t0.07174325781524016\n",
      "  (99, 31)\t0.9769039970851934\n",
      "  (99, 35)\t0.365510792086307\n",
      "  (99, 38)\t0.020335346583734037\n",
      "  (99, 39)\t0.99395877569792\n",
      "  (99, 43)\t0.38647732613677577\n",
      "  (99, 44)\t0.8604062584347977\n",
      "  (99, 47)\t0.12847098120792455\n",
      "  (99, 54)\t0.43140410140625673\n",
      "  (99, 58)\t0.15001089918154342\n",
      "  (99, 67)\t0.5497795736892697\n",
      "  (99, 68)\t0.27771234613833307\n",
      "  (99, 69)\t0.29423531546037807\n",
      "  (99, 70)\t0.17476500980252885\n",
      "  (99, 71)\t0.5699897821781592\n",
      "  (99, 73)\t0.09193893962339583\n",
      "  (99, 79)\t0.03576516896071191\n",
      "  (99, 81)\t0.49645697875186534\n",
      "  (99, 82)\t0.6902028656600337\n",
      "  (99, 83)\t0.17065880854376514\n",
      "  (99, 86)\t0.19085543005623262\n",
      "  (99, 89)\t0.69774067593647\n",
      "  (99, 91)\t0.34704192314635696\n"
     ]
    }
   ],
   "source": [
    "import numpy as np\n",
    "import scipy\n",
    "from scipy.sparse import random\n",
    "\n",
    "m = 100  # Number of rows\n",
    "n = 100  # Number of columns\n",
    "\n",
    "# Generate a random sparse matrix\n",
    "density = 0.3  # Density of non-zero elements\n",
    "sparse_matrix = random(m, n, density=density, format='csr')\n",
    "\n",
    "print(sparse_matrix)\n"
   ]
  },
  {
   "cell_type": "code",
   "execution_count": 4,
   "id": "aa7a2d00",
   "metadata": {},
   "outputs": [],
   "source": [
    "import numpy as np\n",
    "\n",
    "def matrix_factorization(A, d, num_iterations, learning_rate):\n",
    "    m, n = A.shape\n",
    "    U_history = []\n",
    "    V_history = []\n",
    "    loss_history = []\n",
    "\n",
    "\n",
    "    # Initialize U and V with random values\n",
    "    U = np.random.rand(m, d)\n",
    "    V = np.random.rand(n, d)\n",
    "    U_history.append(U.reshape((1,-1)))\n",
    "    V_history.append(V.reshape((1,-1)))\n",
    "\n",
    "    for iteration in range(num_iterations):\n",
    "        # Compute the error matrix\n",
    "        error = A - np.dot(U, V.T)\n",
    "        # Compute the gradients for U and V\n",
    "        grad_U = -2 * np.dot(error, V)\n",
    "        grad_V = -2 * np.dot(error.T, U)\n",
    "\n",
    "        # Update U and V using gradient descent\n",
    "        U -= learning_rate * grad_U\n",
    "        V -= learning_rate * grad_V\n",
    "        \n",
    "        loss_history.append(np.linalg.norm(error)/(m * n))\n",
    "        U_history.append(U.reshape((1,-1)))\n",
    "        V_history.append(V.reshape((1,-1)))\n",
    "#         print('the error of iteration %d is %f' % (iteration, loss_history[-1]))\n",
    "\n",
    "    return U, V, U_history, V_history, loss_history"
   ]
  },
  {
   "cell_type": "code",
   "execution_count": 5,
   "id": "1ee20568",
   "metadata": {},
   "outputs": [],
   "source": [
    "A = scipy.sparse.csr_matrix(sparse_matrix)\n",
    "d = 10\n",
    "num_iterations = 100\n",
    "learning_rate = 0.001"
   ]
  },
  {
   "cell_type": "code",
   "execution_count": 6,
   "id": "31237e7c",
   "metadata": {
    "scrolled": false
   },
   "outputs": [],
   "source": [
    "U, V, U_history, V_history, loss_history = matrix_factorization(A, d, num_iterations, learning_rate)"
   ]
  },
  {
   "cell_type": "code",
   "execution_count": 7,
   "id": "791b309a",
   "metadata": {},
   "outputs": [
    {
     "data": {
      "image/png": "[encoded data removed]",
      "text/plain": [
       "<Figure size 640x480 with 1 Axes>"
      ]
     },
     "metadata": {},
     "output_type": "display_data"
    }
   ],
   "source": [
    "import matplotlib.pyplot as plt\n",
    "plt.plot(loss_history)\n",
    "plt.xlabel('Iteration')\n",
    "plt.ylabel('Loss')\n",
    "plt.yscale('log')\n",
    "plt.title('Loss over Iterations')\n",
    "plt.show()"
   ]
  },
  {
   "cell_type": "code",
   "execution_count": 8,
   "id": "78a8561d",
   "metadata": {},
   "outputs": [
    {
     "name": "stdout",
     "output_type": "stream",
     "text": [
      "(101, 1, 1000)\n"
     ]
    }
   ],
   "source": [
    "U_history = np.array(U_history)\n",
    "print(np.shape(U_history))\n",
    "U_history_x = np.reshape(U_history[:-1], (num_iterations, -1))\n",
    "U_history_y = np.reshape(U_history[1:], (num_iterations, -1))\n",
    "V_history = np.array(V_history)\n",
    "V_history_x = np.reshape(V_history[:-1], (num_iterations, -1))\n",
    "V_history_y = np.reshape(V_history[1:], (num_iterations, -1))"
   ]
  },
  {
   "cell_type": "code",
   "execution_count": 9,
   "id": "637ecf35",
   "metadata": {},
   "outputs": [],
   "source": [
    "U_data_x, U_data_y, V_data_x, V_data_y = [U_history_x], [U_history_y], [V_history_x], [V_history_y]"
   ]
  },
  {
   "cell_type": "code",
   "execution_count": 10,
   "id": "5f7aa28c",
   "metadata": {},
   "outputs": [],
   "source": [
    "training_num = 1000\n",
    "for i in range(1, training_num):\n",
    "    U, V, U_history, V_history, loss_history = matrix_factorization(A, d, num_iterations, learning_rate)\n",
    "    U_history = np.array(U_history)\n",
    "    U_history_x = np.reshape(U_history[:-1], (num_iterations, -1))\n",
    "    U_history_y = np.reshape(U_history[1:], (num_iterations, -1))\n",
    "    V_history = np.array(V_history)\n",
    "    V_history_x = np.reshape(V_history[:-1], (num_iterations, -1))\n",
    "    V_history_y = np.reshape(V_history[1:], (num_iterations, -1))\n",
    "    U_data_x.append(U_history_x)\n",
    "    U_data_y.append(U_history_y)\n",
    "    V_data_x.append(V_history_x)\n",
    "    V_data_y.append(V_history_y)\n",
    "\n",
    "U_data_x = np.concatenate(U_data_x, axis=0)\n",
    "U_data_y = np.concatenate(U_data_y, axis=0)\n",
    "V_data_x = np.concatenate(V_data_x, axis=0)\n",
    "V_data_y = np.concatenate(V_data_y, axis=0)"
   ]
  },
  {
   "cell_type": "code",
   "execution_count": 11,
   "id": "577b76a9",
   "metadata": {},
   "outputs": [
    {
     "data": {
      "text/plain": [
       "(100000, 1000)"
      ]
     },
     "execution_count": 11,
     "metadata": {},
     "output_type": "execute_result"
    }
   ],
   "source": [
    "np.shape(V_data_x)"
   ]
  },
  {
   "cell_type": "code",
   "execution_count": 12,
   "id": "774fdb19",
   "metadata": {},
   "outputs": [],
   "source": [
    "para_data_x = np.concatenate((U_data_x, V_data_x), axis = 1)\n",
    "para_data_y = np.concatenate((U_data_y, V_data_y), axis = 1)"
   ]
  },
  {
   "cell_type": "code",
   "execution_count": 13,
   "id": "50ce41f7",
   "metadata": {},
   "outputs": [
    {
     "name": "stderr",
     "output_type": "stream",
     "text": [
      "2023-06-12 20:26:23.565556: I tensorflow/core/platform/cpu_feature_guard.cc:193] This TensorFlow binary is optimized with oneAPI Deep Neural Network Library (oneDNN) to use the following CPU instructions in performance-critical operations:  AVX2 AVX512F AVX512_VNNI FMA\n",
      "To enable them in other operations, rebuild TensorFlow with the appropriate compiler flags.\n",
      "2023-06-12 20:26:23.655843: I tensorflow/core/util/port.cc:104] oneDNN custom operations are on. You may see slightly different numerical results due to floating-point round-off errors from different computation orders. To turn them off, set the environment variable `TF_ENABLE_ONEDNN_OPTS=0`.\n",
      "2023-06-12 20:26:24.097641: W tensorflow/compiler/xla/stream_executor/platform/default/dso_loader.cc:64] Could not load dynamic library 'libnvinfer.so.7'; dlerror: libnvinfer.so.7: cannot open shared object file: No such file or directory\n",
      "2023-06-12 20:26:24.097688: W tensorflow/compiler/xla/stream_executor/platform/default/dso_loader.cc:64] Could not load dynamic library 'libnvinfer_plugin.so.7'; dlerror: libnvinfer_plugin.so.7: cannot open shared object file: No such file or directory\n",
      "2023-06-12 20:26:24.097693: W tensorflow/compiler/tf2tensorrt/utils/py_utils.cc:38] TF-TRT Warning: Cannot dlopen some TensorRT libraries. If you would like to use Nvidia GPU with TensorRT, please make sure the missing libraries mentioned above are installed properly.\n"
     ]
    }
   ],
   "source": [
    "# Build the model\n",
    "from tensorflow.keras.layers import Layer, Dense\n",
    "from tensorflow.keras.layers import Input, Add, Multiply, Lambda, Concatenate\n",
    "from tensorflow.keras.models import Model\n",
    "from tensorflow.keras.optimizers.legacy import Adam\n",
    "import numpy as np\n",
    "import tensorflow as tf\n",
    "from tensorflow import keras\n",
    "\n",
    "class DicNN(Layer):\n",
    "    \"\"\"\n",
    "    Trainable disctionries\n",
    "    \"\"\"\n",
    "    \n",
    "    def __init__(self, n_input, layer_sizes=[128,128,128], n_psi_train=64, **kwargs):\n",
    "        \"\"\"_summary_\n",
    "        Args:\n",
    "            layer_sizes (list, optional): Number of unit of hidden layer, activation = 'tanh'. Defaults to [64, 64].\n",
    "            n_psi_train (int, optional): Number of unit of output layer. Defaults to 22.\n",
    "        \"\"\"\n",
    "        super(DicNN, self).__init__(**kwargs)\n",
    "        self.layer_sizes = layer_sizes\n",
    "        self.input_layer = Dense(self.layer_sizes[0], name='Dic_input', use_bias=False)\n",
    "        self.hidden_layers = [Dense(layer_sizes[i], activation='tanh', name='Dic_hidden_%d'%i) for i in range(len(layer_sizes))]        \n",
    "        self.output_layer = Dense(n_psi_train, name='Dic_output')\n",
    "        self.n_psi_train = n_psi_train\n",
    "        self.inv_input_layer = Dense(self.layer_sizes[-1], name = 'Dic_input_inv', use_bias=False)\n",
    "        self.inv_hidden_layers = [Dense(layer_sizes[-(i+1)], activation='tanh', name='Dic_hidden_%d_inv'%i) for i in range(len(layer_sizes))]\n",
    "        self.inv_output_layer = Dense(n_input, name = 'Dic_output_inv')\n",
    "        self.n_input = n_input\n",
    "        \n",
    "    def call(self, inputs):\n",
    "        psi_x_train = self.input_layer(inputs)\n",
    "        for layer in self.hidden_layers:\n",
    "            psi_x_train = psi_x_train + layer(psi_x_train)\n",
    "        outputs = self.output_layer(psi_x_train)\n",
    "        return outputs\n",
    "    \n",
    "    def inv_call(self, inputs):\n",
    "        x_inv = self.inv_input_layer(inputs)\n",
    "        for layer in self.inv_hidden_layers:\n",
    "            x_inv = x_inv + layer(x_inv)\n",
    "        outputs = self.inv_output_layer(x_inv)\n",
    "        return outputs\n",
    "    \n",
    "    def get_config(self):\n",
    "        config = super(DicNN, self).get_config()\n",
    "        config.update({\n",
    "            'layer_sizes': self.layer_sizes,\n",
    "            'n_psi_train': self.n_psi_train\n",
    "        })\n",
    "        return config"
   ]
  },
  {
   "cell_type": "code",
   "execution_count": 14,
   "id": "317a51af",
   "metadata": {},
   "outputs": [
    {
     "name": "stderr",
     "output_type": "stream",
     "text": [
      "2023-06-12 20:26:24.824671: I tensorflow/core/platform/cpu_feature_guard.cc:193] This TensorFlow binary is optimized with oneAPI Deep Neural Network Library (oneDNN) to use the following CPU instructions in performance-critical operations:  AVX2 AVX512F AVX512_VNNI FMA\n",
      "To enable them in other operations, rebuild TensorFlow with the appropriate compiler flags.\n",
      "2023-06-12 20:26:26.656316: I tensorflow/core/common_runtime/gpu/gpu_device.cc:1613] Created device /job:localhost/replica:0/task:0/device:GPU:0 with 22288 MB memory:  -> device: 0, name: NVIDIA GeForce RTX 3090, pci bus id: 0000:18:00.0, compute capability: 8.6\n",
      "2023-06-12 20:26:26.657730: I tensorflow/core/common_runtime/gpu/gpu_device.cc:1613] Created device /job:localhost/replica:0/task:0/device:GPU:1 with 22288 MB memory:  -> device: 1, name: NVIDIA GeForce RTX 3090, pci bus id: 0000:51:00.0, compute capability: 8.6\n",
      "2023-06-12 20:26:26.658979: I tensorflow/core/common_runtime/gpu/gpu_device.cc:1613] Created device /job:localhost/replica:0/task:0/device:GPU:2 with 21417 MB memory:  -> device: 2, name: NVIDIA GeForce RTX 3090, pci bus id: 0000:8b:00.0, compute capability: 8.6\n",
      "2023-06-12 20:26:26.660262: I tensorflow/core/common_runtime/gpu/gpu_device.cc:1613] Created device /job:localhost/replica:0/task:0/device:GPU:3 with 22107 MB memory:  -> device: 3, name: NVIDIA GeForce RTX 3090, pci bus id: 0000:c3:00.0, compute capability: 8.6\n"
     ]
    }
   ],
   "source": [
    "dic = DicNN(n_input = np.shape(para_data_x)[1], n_psi_train = 106)\n",
    "inputs_x = Input((np.shape(para_data_x)[1],))\n",
    "model_psi = Model(inputs = inputs_x, outputs = dic.call(inputs_x), name = 'model_psi')"
   ]
  },
  {
   "cell_type": "code",
   "execution_count": 15,
   "id": "18ef2bd4",
   "metadata": {},
   "outputs": [],
   "source": [
    "inputs_x = Input((np.shape(para_data_x)[1],))\n",
    "inputs_y = Input((np.shape(para_data_x)[1],))\n",
    "psi_x = model_psi(inputs_x)\n",
    "psi_y = model_psi(inputs_y)\n",
    "k_layer = Dense(units = dic.n_psi_train, use_bias=False, name = 'k_layer')\n",
    "outputs_x = k_layer(psi_x)\n",
    "outputs = outputs_x - psi_y\n",
    "model_koopman = Model(inputs = [inputs_x, inputs_y], outputs = outputs, name = 'model_koopman')"
   ]
  },
  {
   "cell_type": "code",
   "execution_count": 16,
   "id": "552639d5",
   "metadata": {},
   "outputs": [],
   "source": [
    "inputs_x = Input((np.shape(para_data_x)[1],))\n",
    "psi_x = model_psi(inputs_x)\n",
    "inputs_kpsi = Input((dic.n_psi_train,))\n",
    "model_inv_psi = Model(inputs = inputs_kpsi, outputs = dic.inv_call(inputs_kpsi))\n",
    "model_auto = Model(inputs = inputs_x, outputs = model_inv_psi(psi_x), name = 'model_auto')"
   ]
  },
  {
   "cell_type": "code",
   "execution_count": 17,
   "id": "cbb2e5da",
   "metadata": {},
   "outputs": [],
   "source": [
    "input_x = tf.keras.layers.Input(shape=(para_data_x.shape[1],))\n",
    "input_y = tf.keras.layers.Input(shape=(para_data_x.shape[1],))\n",
    "output_auto = model_auto(input_x)\n",
    "output_koopman = model_koopman([input_x, input_y])\n",
    "combined_model = tf.keras.models.Model(inputs=[input_x, input_y], outputs=[output_auto, output_koopman], name = 'model_combined')"
   ]
  },
  {
   "cell_type": "code",
   "execution_count": 46,
   "id": "314cda93",
   "metadata": {},
   "outputs": [],
   "source": [
    "class para_loss(object):\n",
    "    def __init__(self, lbd, shape):\n",
    "        self.lbd = lbd\n",
    "        self.shape = shape\n",
    "    \n",
    "    def loss_fun(self, y_pred, y_true):\n",
    "        y_pred_auto = y_pred\n",
    "        y_true_auto = y_true\n",
    "        print(tf.shape(y_pred[0]))\n",
    "        y_pred_auto_reshape = tf.reshape(y_pred_auto, self.shape)\n",
    "        y_true_auto_reshape = tf.reshape(y_true_auto, self.shape)\n",
    "        \n",
    "        y_pred_auto_reshape_transposed = tf.transpose(y_pred_auto_reshape[1,:,:])\n",
    "        y_true_auto_reshape_transposed = tf.transpose(y_true_auto_reshape[1,:,:])\n",
    "        \n",
    "        output_pred = tf.matmul(y_pred_auto_reshape[0,:,:], y_pred_auto_reshape_transposed)\n",
    "        output_true = tf.matmul(y_true_auto_reshape[0,:,:], y_true_auto_reshape_transposed)\n",
    "        \n",
    "        output_pred = tf.reshape(output_pred, (1, -1))\n",
    "        output_true = tf.reshape(output_true, (1, -1))\n",
    "        \n",
    "        return self.lbd * tf.keras.losses.MSE(y_pred[1], y_true[1]) + (1 - self.lbd) * tf.keras.losses.MSE(output_pred, output_true)\n"
   ]
  },
  {
   "cell_type": "code",
   "execution_count": 47,
   "id": "a6b9174a",
   "metadata": {},
   "outputs": [],
   "source": [
    "batch_size = 256\n",
    "epochs = 1000\n",
    "lbd = 0.1"
   ]
  },
  {
   "cell_type": "code",
   "execution_count": 48,
   "id": "5dd76547",
   "metadata": {},
   "outputs": [],
   "source": [
    "loss = para_loss(lbd, (2,100,10))"
   ]
  },
  {
   "cell_type": "code",
   "execution_count": 49,
   "id": "04665cc6",
   "metadata": {},
   "outputs": [],
   "source": [
    "combined_model.compile(optimizer='adam', loss=loss.loss_fun)"
   ]
  },
  {
   "cell_type": "code",
   "execution_count": 50,
   "id": "c1164ae4",
   "metadata": {},
   "outputs": [],
   "source": [
    "from sklearn.model_selection import train_test_split\n",
    "from sklearn.preprocessing import StandardScaler\n",
    "\n",
    "para_data_x_train, para_data_x_test, para_data_y_train, para_data_y_test = train_test_split(para_data_x, para_data_y, test_size=0.2, random_state=42)\n",
    "\n",
    "scaler = StandardScaler()\n",
    "\n",
    "para_data_x_train_scaled = scaler.fit_transform(para_data_x_train)\n",
    "para_data_y_train_scaled = scaler.fit_transform(para_data_y_train)\n",
    "\n",
    "para_data_x_test_scaled = scaler.transform(para_data_x_test)\n",
    "para_data_y_test_scaled = scaler.transform(para_data_y_test)"
   ]
  },
  {
   "cell_type": "code",
   "execution_count": 51,
   "id": "1620feea",
   "metadata": {},
   "outputs": [
    {
     "data": {
      "text/plain": [
       "(80000, 2000)"
      ]
     },
     "execution_count": 51,
     "metadata": {},
     "output_type": "execute_result"
    }
   ],
   "source": [
    "np.shape(para_data_x_train_scaled)"
   ]
  },
  {
   "cell_type": "code",
   "execution_count": 52,
   "id": "a3644068",
   "metadata": {},
   "outputs": [
    {
     "name": "stdout",
     "output_type": "stream",
     "text": [
      "Epoch 1/1000\n",
      "Tensor(\"loss_fun/Shape:0\", shape=(1,), dtype=int32)\n",
      "Tensor(\"loss_fun_1/Shape:0\", shape=(1,), dtype=int32)\n"
     ]
    },
    {
     "ename": "ValueError",
     "evalue": "in user code:\n\n    File \"/home/shiqi/anaconda3/envs/tensor-koopman/lib/python3.8/site-packages/keras/engine/training.py\", line 1249, in train_function  *\n        return step_function(self, iterator)\n    File \"/tmp/ipykernel_3574362/2305107599.py\", line 10, in loss_fun  *\n        y_pred_auto_reshape = tf.reshape(y_pred_auto, self.shape)\n\n    ValueError: Dimension size must be evenly divisible by 106 but is 2000 for '{{node loss_fun_1/Reshape}} = Reshape[T=DT_FLOAT, Tshape=DT_INT32](IteratorGetNext:3, loss_fun_1/Reshape/shape)' with input shapes: [?,106], [3] and with input tensors computed as partial shapes: input[1] = [2,100,10].\n",
     "output_type": "error",
     "traceback": [
      "\u001b[0;31m---------------------------------------------------------------------------\u001b[0m",
      "\u001b[0;31mValueError\u001b[0m                                Traceback (most recent call last)",
      "Cell \u001b[0;32mIn[52], line 7\u001b[0m\n\u001b[1;32m      1\u001b[0m \u001b[38;5;66;03m# from tensorflow.keras.callbacks import TensorBoard\u001b[39;00m\n\u001b[1;32m      2\u001b[0m \n\u001b[1;32m      3\u001b[0m \u001b[38;5;66;03m# log_dir = \"logs/\"\u001b[39;00m\n\u001b[1;32m      4\u001b[0m \n\u001b[1;32m      5\u001b[0m \u001b[38;5;66;03m# tensorboard_callback = TensorBoard(log_dir=log_dir, histogram_freq=1)\u001b[39;00m\n\u001b[0;32m----> 7\u001b[0m history \u001b[38;5;241m=\u001b[39m \u001b[43mcombined_model\u001b[49m\u001b[38;5;241;43m.\u001b[39;49m\u001b[43mfit\u001b[49m\u001b[43m(\u001b[49m\n\u001b[1;32m      8\u001b[0m \u001b[43m    \u001b[49m\u001b[43m[\u001b[49m\u001b[43mpara_data_x_train_scaled\u001b[49m\u001b[43m,\u001b[49m\u001b[43m \u001b[49m\u001b[43mpara_data_y_train_scaled\u001b[49m\u001b[43m]\u001b[49m\u001b[43m,\u001b[49m\n\u001b[1;32m      9\u001b[0m \u001b[43m    \u001b[49m\u001b[43m[\u001b[49m\u001b[43mpara_data_x_train_scaled\u001b[49m\u001b[43m,\u001b[49m\u001b[43m \u001b[49m\u001b[43mtf\u001b[49m\u001b[38;5;241;43m.\u001b[39;49m\u001b[43mzeros_like\u001b[49m\u001b[43m(\u001b[49m\u001b[43mmodel_psi\u001b[49m\u001b[43m(\u001b[49m\u001b[43mpara_data_x_train_scaled\u001b[49m\u001b[43m)\u001b[49m\u001b[43m)\u001b[49m\u001b[43m]\u001b[49m\u001b[43m,\u001b[49m\n\u001b[1;32m     10\u001b[0m \u001b[43m    \u001b[49m\u001b[43mvalidation_data\u001b[49m\u001b[38;5;241;43m=\u001b[39;49m\u001b[43m(\u001b[49m\n\u001b[1;32m     11\u001b[0m \u001b[43m        \u001b[49m\u001b[43m[\u001b[49m\u001b[43mpara_data_x_test_scaled\u001b[49m\u001b[43m,\u001b[49m\u001b[43m \u001b[49m\u001b[43mpara_data_y_test_scaled\u001b[49m\u001b[43m]\u001b[49m\u001b[43m,\u001b[49m\n\u001b[1;32m     12\u001b[0m \u001b[43m        \u001b[49m\u001b[43m[\u001b[49m\u001b[43mpara_data_x_test_scaled\u001b[49m\u001b[43m,\u001b[49m\u001b[43m \u001b[49m\u001b[43mtf\u001b[49m\u001b[38;5;241;43m.\u001b[39;49m\u001b[43mzeros_like\u001b[49m\u001b[43m(\u001b[49m\u001b[43mmodel_psi\u001b[49m\u001b[43m(\u001b[49m\u001b[43mpara_data_x_test_scaled\u001b[49m\u001b[43m)\u001b[49m\u001b[43m)\u001b[49m\u001b[43m]\u001b[49m\n\u001b[1;32m     13\u001b[0m \u001b[43m    \u001b[49m\u001b[43m)\u001b[49m\u001b[43m,\u001b[49m\n\u001b[1;32m     14\u001b[0m \u001b[43m    \u001b[49m\u001b[43mverbose\u001b[49m\u001b[38;5;241;43m=\u001b[39;49m\u001b[38;5;241;43m1\u001b[39;49m\u001b[43m,\u001b[49m\n\u001b[1;32m     15\u001b[0m \u001b[43m    \u001b[49m\u001b[43mepochs\u001b[49m\u001b[38;5;241;43m=\u001b[39;49m\u001b[43mepochs\u001b[49m\u001b[43m,\u001b[49m\n\u001b[1;32m     16\u001b[0m \u001b[43m    \u001b[49m\u001b[43mbatch_size\u001b[49m\u001b[38;5;241;43m=\u001b[39;49m\u001b[43mbatch_size\u001b[49m\n\u001b[1;32m     17\u001b[0m \u001b[38;5;66;43;03m#     callbacks=[tensorboard_callback]\u001b[39;49;00m\n\u001b[1;32m     18\u001b[0m \u001b[43m)\u001b[49m\n",
      "File \u001b[0;32m~/anaconda3/envs/tensor-koopman/lib/python3.8/site-packages/keras/utils/traceback_utils.py:70\u001b[0m, in \u001b[0;36mfilter_traceback.<locals>.error_handler\u001b[0;34m(*args, **kwargs)\u001b[0m\n\u001b[1;32m     67\u001b[0m     filtered_tb \u001b[38;5;241m=\u001b[39m _process_traceback_frames(e\u001b[38;5;241m.\u001b[39m__traceback__)\n\u001b[1;32m     68\u001b[0m     \u001b[38;5;66;03m# To get the full stack trace, call:\u001b[39;00m\n\u001b[1;32m     69\u001b[0m     \u001b[38;5;66;03m# `tf.debugging.disable_traceback_filtering()`\u001b[39;00m\n\u001b[0;32m---> 70\u001b[0m     \u001b[38;5;28;01mraise\u001b[39;00m e\u001b[38;5;241m.\u001b[39mwith_traceback(filtered_tb) \u001b[38;5;28;01mfrom\u001b[39;00m \u001b[38;5;28mNone\u001b[39m\n\u001b[1;32m     71\u001b[0m \u001b[38;5;28;01mfinally\u001b[39;00m:\n\u001b[1;32m     72\u001b[0m     \u001b[38;5;28;01mdel\u001b[39;00m filtered_tb\n",
      "File \u001b[0;32m/tmp/__autograph_generated_filew5xepx07.py:15\u001b[0m, in \u001b[0;36mouter_factory.<locals>.inner_factory.<locals>.tf__train_function\u001b[0;34m(iterator)\u001b[0m\n\u001b[1;32m     13\u001b[0m \u001b[38;5;28;01mtry\u001b[39;00m:\n\u001b[1;32m     14\u001b[0m     do_return \u001b[38;5;241m=\u001b[39m \u001b[38;5;28;01mTrue\u001b[39;00m\n\u001b[0;32m---> 15\u001b[0m     retval_ \u001b[38;5;241m=\u001b[39m ag__\u001b[38;5;241m.\u001b[39mconverted_call(ag__\u001b[38;5;241m.\u001b[39mld(step_function), (ag__\u001b[38;5;241m.\u001b[39mld(\u001b[38;5;28mself\u001b[39m), ag__\u001b[38;5;241m.\u001b[39mld(iterator)), \u001b[38;5;28;01mNone\u001b[39;00m, fscope)\n\u001b[1;32m     16\u001b[0m \u001b[38;5;28;01mexcept\u001b[39;00m:\n\u001b[1;32m     17\u001b[0m     do_return \u001b[38;5;241m=\u001b[39m \u001b[38;5;28;01mFalse\u001b[39;00m\n",
      "File \u001b[0;32m/tmp/__autograph_generated_file_16vtdm_.py:13\u001b[0m, in \u001b[0;36mouter_factory.<locals>.inner_factory.<locals>.tf__loss_fun\u001b[0;34m(self, y_pred, y_true)\u001b[0m\n\u001b[1;32m     11\u001b[0m y_true_auto \u001b[38;5;241m=\u001b[39m ag__\u001b[38;5;241m.\u001b[39mld(y_true)\n\u001b[1;32m     12\u001b[0m ag__\u001b[38;5;241m.\u001b[39mld(\u001b[38;5;28mprint\u001b[39m)(ag__\u001b[38;5;241m.\u001b[39mconverted_call(ag__\u001b[38;5;241m.\u001b[39mld(tf)\u001b[38;5;241m.\u001b[39mshape, (ag__\u001b[38;5;241m.\u001b[39mld(y_pred)[\u001b[38;5;241m0\u001b[39m],), \u001b[38;5;28;01mNone\u001b[39;00m, fscope))\n\u001b[0;32m---> 13\u001b[0m y_pred_auto_reshape \u001b[38;5;241m=\u001b[39m ag__\u001b[38;5;241m.\u001b[39mconverted_call(ag__\u001b[38;5;241m.\u001b[39mld(tf)\u001b[38;5;241m.\u001b[39mreshape, (ag__\u001b[38;5;241m.\u001b[39mld(y_pred_auto), ag__\u001b[38;5;241m.\u001b[39mld(\u001b[38;5;28mself\u001b[39m)\u001b[38;5;241m.\u001b[39mshape), \u001b[38;5;28;01mNone\u001b[39;00m, fscope)\n\u001b[1;32m     14\u001b[0m y_true_auto_reshape \u001b[38;5;241m=\u001b[39m ag__\u001b[38;5;241m.\u001b[39mconverted_call(ag__\u001b[38;5;241m.\u001b[39mld(tf)\u001b[38;5;241m.\u001b[39mreshape, (ag__\u001b[38;5;241m.\u001b[39mld(y_true_auto), ag__\u001b[38;5;241m.\u001b[39mld(\u001b[38;5;28mself\u001b[39m)\u001b[38;5;241m.\u001b[39mshape), \u001b[38;5;28;01mNone\u001b[39;00m, fscope)\n\u001b[1;32m     15\u001b[0m y_pred_auto_reshape_transposed \u001b[38;5;241m=\u001b[39m ag__\u001b[38;5;241m.\u001b[39mconverted_call(ag__\u001b[38;5;241m.\u001b[39mld(tf)\u001b[38;5;241m.\u001b[39mtranspose, (ag__\u001b[38;5;241m.\u001b[39mld(y_pred_auto_reshape)[\u001b[38;5;241m1\u001b[39m, :, :],), \u001b[38;5;28;01mNone\u001b[39;00m, fscope)\n",
      "\u001b[0;31mValueError\u001b[0m: in user code:\n\n    File \"/home/shiqi/anaconda3/envs/tensor-koopman/lib/python3.8/site-packages/keras/engine/training.py\", line 1249, in train_function  *\n        return step_function(self, iterator)\n    File \"/tmp/ipykernel_3574362/2305107599.py\", line 10, in loss_fun  *\n        y_pred_auto_reshape = tf.reshape(y_pred_auto, self.shape)\n\n    ValueError: Dimension size must be evenly divisible by 106 but is 2000 for '{{node loss_fun_1/Reshape}} = Reshape[T=DT_FLOAT, Tshape=DT_INT32](IteratorGetNext:3, loss_fun_1/Reshape/shape)' with input shapes: [?,106], [3] and with input tensors computed as partial shapes: input[1] = [2,100,10].\n"
     ]
    }
   ],
   "source": [
    "# from tensorflow.keras.callbacks import TensorBoard\n",
    "\n",
    "# log_dir = \"logs/\"\n",
    "\n",
    "# tensorboard_callback = TensorBoard(log_dir=log_dir, histogram_freq=1)\n",
    "\n",
    "history = combined_model.fit(\n",
    "    [para_data_x_train_scaled, para_data_y_train_scaled],\n",
    "    [para_data_x_train_scaled, tf.zeros_like(model_psi(para_data_x_train_scaled))],\n",
    "    validation_data=(\n",
    "        [para_data_x_test_scaled, para_data_y_test_scaled],\n",
    "        [para_data_x_test_scaled, tf.zeros_like(model_psi(para_data_x_test_scaled))]\n",
    "    ),\n",
    "    verbose=1,\n",
    "    epochs=epochs,\n",
    "    batch_size=batch_size\n",
    "#     callbacks=[tensorboard_callback]\n",
    ")\n"
   ]
  },
  {
   "cell_type": "code",
   "execution_count": null,
   "id": "6aeb641b",
   "metadata": {},
   "outputs": [],
   "source": [
    "combined_model([para_data_x_train_scaled, para_data_y_train_scaled])"
   ]
  },
  {
   "cell_type": "code",
   "execution_count": null,
   "id": "2dc51cca",
   "metadata": {},
   "outputs": [],
   "source": []
  }
 ],
 "metadata": {
  "kernelspec": {
   "display_name": "Python [conda env:tensor-koopman] *",
   "language": "python",
   "name": "conda-env-tensor-koopman-py"
  },
  "language_info": {
   "codemirror_mode": {
    "name": "ipython",
    "version": 3
   },
   "file_extension": ".py",
   "mimetype": "text/x-python",
   "name": "python",
   "nbconvert_exporter": "python",
   "pygments_lexer": "ipython3",
   "version": "3.8.16"
  }
 },
 "nbformat": 4,
 "nbformat_minor": 5
}
