{
 "cells": [
  {
   "cell_type": "code",
   "execution_count": 1,
   "id": "29dd6933",
   "metadata": {},
   "outputs": [],
   "source": [
    "import numpy as np\n",
    "import matplotlib.pyplot as plt"
   ]
  },
  {
   "cell_type": "code",
   "execution_count": null,
   "id": "6a22e560",
   "metadata": {},
   "outputs": [],
   "source": [
    "suffix = '_128node_256latent_1step'\n",
    "file_name = 'output/eigenvalues' + suffix + '.npy'\n",
    "\n",
    "eigenvalues = np.load('output/')"
   ]
  }
 ],
 "metadata": {
  "kernelspec": {
   "display_name": "Python [conda env:tensor-koopman] *",
   "language": "python",
   "name": "conda-env-tensor-koopman-py"
  },
  "language_info": {
   "codemirror_mode": {
    "name": "ipython",
    "version": 3
   },
   "file_extension": ".py",
   "mimetype": "text/x-python",
   "name": "python",
   "nbconvert_exporter": "python",
   "pygments_lexer": "ipython3",
   "version": "3.8.16"
  }
 },
 "nbformat": 4,
 "nbformat_minor": 5
}
