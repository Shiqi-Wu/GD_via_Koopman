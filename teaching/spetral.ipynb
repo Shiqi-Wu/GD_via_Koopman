{
 "cells": [
  {
   "cell_type": "code",
   "execution_count": 1,
   "id": "d44b7e50",
   "metadata": {},
   "outputs": [
    {
     "data": {
      "text/html": [
       "<style type='text/css'>\n",
       ".CodeMirror{\n",
       "font-size: 22px;\n",
       "</style>\n"
      ],
      "text/plain": [
       "<IPython.core.display.HTML object>"
      ]
     },
     "metadata": {},
     "output_type": "display_data"
    }
   ],
   "source": [
    "%%html\n",
    "<style type='text/css'>\n",
    ".CodeMirror{\n",
    "font-size: 22px;\n",
    "</style>"
   ]
  },
  {
   "cell_type": "code",
   "execution_count": 2,
   "id": "c03d78e5",
   "metadata": {},
   "outputs": [],
   "source": [
    "%load_ext autoreload\n",
    "%autoreload 2"
   ]
  },
  {
   "cell_type": "code",
   "execution_count": 3,
   "id": "714d89e4",
   "metadata": {},
   "outputs": [],
   "source": [
    "import os\n",
    "os.environ[\"CUDA_DEVICE_ORDER\"] = \"PCI_BUS_ID\"\n",
    "os.environ[\"CUDA_VISIBLE_DEVICES\"] = \"1\""
   ]
  },
  {
   "cell_type": "code",
   "execution_count": 4,
   "id": "7e1f7f53",
   "metadata": {},
   "outputs": [
    {
     "name": "stderr",
     "output_type": "stream",
     "text": [
      "2023-03-25 11:42:51.003346: I tensorflow/core/platform/cpu_feature_guard.cc:193] This TensorFlow binary is optimized with oneAPI Deep Neural Network Library (oneDNN) to use the following CPU instructions in performance-critical operations:  AVX2 AVX512F AVX512_VNNI FMA\n",
      "To enable them in other operations, rebuild TensorFlow with the appropriate compiler flags.\n",
      "2023-03-25 11:42:51.140856: I tensorflow/core/util/port.cc:104] oneDNN custom operations are on. You may see slightly different numerical results due to floating-point round-off errors from different computation orders. To turn them off, set the environment variable `TF_ENABLE_ONEDNN_OPTS=0`.\n",
      "2023-03-25 11:42:51.794687: W tensorflow/compiler/xla/stream_executor/platform/default/dso_loader.cc:64] Could not load dynamic library 'libnvinfer.so.7'; dlerror: libnvinfer.so.7: cannot open shared object file: No such file or directory\n",
      "2023-03-25 11:42:51.794747: W tensorflow/compiler/xla/stream_executor/platform/default/dso_loader.cc:64] Could not load dynamic library 'libnvinfer_plugin.so.7'; dlerror: libnvinfer_plugin.so.7: cannot open shared object file: No such file or directory\n",
      "2023-03-25 11:42:51.794751: W tensorflow/compiler/tf2tensorrt/utils/py_utils.cc:38] TF-TRT Warning: Cannot dlopen some TensorRT libraries. If you would like to use Nvidia GPU with TensorRT, please make sure the missing libraries mentioned above are installed properly.\n"
     ]
    },
    {
     "name": "stdout",
     "output_type": "stream",
     "text": [
      "Num GPUs Available:  1\n"
     ]
    }
   ],
   "source": [
    "import tensorflow as tf\n",
    "\n",
    "print(\"Num GPUs Available: \", len(tf.config.list_physical_devices('GPU')))\n",
    "tf.debugging.set_log_device_placement(False)\n",
    "gpus = tf.config.list_physical_devices('GPU')"
   ]
  },
  {
   "cell_type": "code",
   "execution_count": 5,
   "id": "94565784",
   "metadata": {},
   "outputs": [],
   "source": [
    "import numpy as np\n",
    "node_num = 16\n",
    "training_id = 0\n",
    "weight = np.load('learn_output/weight_%d_%d.npy' % (node_num, training_id), allow_pickle=True)\n",
    "x_train = weight[:-1,:]\n",
    "y_train = weight[1:,:]\n",
    "for training_id in range(1, 10):\n",
    "    weight = np.load('learn_output/weight_%d_%d.npy' % (node_num, training_id), allow_pickle=True)\n",
    "    x_train = np.concatenate((x_train, weight[:-1,:]), axis = 0)\n",
    "    y_train = np.concatenate((y_train, weight[1:,:]), axis = 0)"
   ]
  },
  {
   "cell_type": "code",
   "execution_count": 6,
   "id": "2d841ec0",
   "metadata": {},
   "outputs": [
    {
     "data": {
      "text/plain": [
       "(1990, 466)"
      ]
     },
     "execution_count": 6,
     "metadata": {},
     "output_type": "execute_result"
    }
   ],
   "source": [
    "np.shape(x_train)"
   ]
  },
  {
   "cell_type": "code",
   "execution_count": 7,
   "id": "3644024b",
   "metadata": {},
   "outputs": [],
   "source": [
    "# Build the model\n",
    "from tensorflow.keras.layers import Layer, Dense\n",
    "from tensorflow.keras.layers import Input, Add, Multiply, Lambda, Concatenate\n",
    "from tensorflow.keras.models import Model\n",
    "from tensorflow.keras.optimizers.legacy import Adam\n",
    "import numpy as np\n",
    "import tensorflow as tf\n",
    "from tensorflow import keras\n",
    "\n",
    "class DicNN(Layer):\n",
    "    \"\"\"\n",
    "    Trainable disctionries\n",
    "    \"\"\"\n",
    "    \n",
    "    def __init__(self, layer_sizes=[64, 64], n_psi_train=32, **kwargs):\n",
    "        \"\"\"_summary_\n",
    "\n",
    "        Args:\n",
    "            layer_sizes (list, optional): Number of unit of hidden layer, activation = 'tanh'. Defaults to [64, 64].\n",
    "            n_psi_train (int, optional): Number of unit of output layer. Defaults to 22.\n",
    "        \"\"\"\n",
    "        super(DicNN, self).__init__(**kwargs)\n",
    "        self.layer_sizes = layer_sizes\n",
    "        self.input_layer = Dense(self.layer_sizes[0], name='Dic_input', use_bias=False)\n",
    "        self.hidden_layers = [Dense(layer_sizes[i], activation='tanh', name='Dic_hidden_%d'%i) for i in range(len(layer_sizes))]        \n",
    "        self.output_layer = Dense(n_psi_train, name='Dic_output')\n",
    "        self.n_psi_train = n_psi_train\n",
    "        \n",
    "    def call(self, inputs):\n",
    "        psi_x_train = self.input_layer(inputs)\n",
    "        for layer in self.hidden_layers:\n",
    "            psi_x_train = psi_x_train + layer(psi_x_train)\n",
    "        outputs = self.output_layer(psi_x_train)\n",
    "        return outputs\n",
    "    \n",
    "    def get_config(self):\n",
    "        config = super(KoopmanDL_DicNN, self).get_config()\n",
    "        config.update({\n",
    "            'layer_sizes': self.layer_sizes,\n",
    "            'n_psi_train': self.n_psi_train\n",
    "        })\n",
    "        return config"
   ]
  },
  {
   "cell_type": "code",
   "execution_count": 8,
   "id": "96ca9880",
   "metadata": {},
   "outputs": [
    {
     "name": "stderr",
     "output_type": "stream",
     "text": [
      "2023-03-25 11:42:52.985860: I tensorflow/core/platform/cpu_feature_guard.cc:193] This TensorFlow binary is optimized with oneAPI Deep Neural Network Library (oneDNN) to use the following CPU instructions in performance-critical operations:  AVX2 AVX512F AVX512_VNNI FMA\n",
      "To enable them in other operations, rebuild TensorFlow with the appropriate compiler flags.\n",
      "2023-03-25 11:42:53.608533: I tensorflow/core/common_runtime/gpu/gpu_device.cc:1613] Created device /job:localhost/replica:0/task:0/device:GPU:0 with 22288 MB memory:  -> device: 0, name: NVIDIA GeForce RTX 3090, pci bus id: 0000:51:00.0, compute capability: 8.6\n"
     ]
    }
   ],
   "source": [
    "dic = DicNN()\n",
    "inputs_x = Input((np.shape(x_train)[1],))\n",
    "inputs_y = Input((np.shape(x_train)[1],))\n",
    "model_psi = Model(inputs = inputs_x, outputs = dic.call(inputs_x))\n",
    "psi_x = model_psi(inputs_x)\n",
    "psi_y = model_psi(inputs_y)\n",
    "k_layer = Dense(units = 32, use_bias=False, name = 'k_layer', trainable = False)\n",
    "outputs_x = k_layer(psi_x)\n",
    "outputs = outputs_x - psi_y\n",
    "model = Model(inputs = [inputs_x, inputs_y], outputs = outputs)"
   ]
  },
  {
   "cell_type": "code",
   "execution_count": 9,
   "id": "2d4e4753",
   "metadata": {},
   "outputs": [
    {
     "name": "stdout",
     "output_type": "stream",
     "text": [
      "Model: \"model\"\n",
      "__________________________________________________________________________________________________\n",
      " Layer (type)                   Output Shape         Param #     Connected to                     \n",
      "==================================================================================================\n",
      " input_1 (InputLayer)           [(None, 466)]        0           []                               \n",
      "                                                                                                  \n",
      " Dic_input (Dense)              (None, 64)           29824       ['input_1[0][0]']                \n",
      "                                                                                                  \n",
      " Dic_hidden_0 (Dense)           (None, 64)           4160        ['Dic_input[0][0]']              \n",
      "                                                                                                  \n",
      " tf.__operators__.add (TFOpLamb  (None, 64)          0           ['Dic_input[0][0]',              \n",
      " da)                                                              'Dic_hidden_0[0][0]']           \n",
      "                                                                                                  \n",
      " Dic_hidden_1 (Dense)           (None, 64)           4160        ['tf.__operators__.add[0][0]']   \n",
      "                                                                                                  \n",
      " tf.__operators__.add_1 (TFOpLa  (None, 64)          0           ['tf.__operators__.add[0][0]',   \n",
      " mbda)                                                            'Dic_hidden_1[0][0]']           \n",
      "                                                                                                  \n",
      " Dic_output (Dense)             (None, 32)           2080        ['tf.__operators__.add_1[0][0]'] \n",
      "                                                                                                  \n",
      "==================================================================================================\n",
      "Total params: 40,224\n",
      "Trainable params: 40,224\n",
      "Non-trainable params: 0\n",
      "__________________________________________________________________________________________________\n"
     ]
    }
   ],
   "source": [
    "model_psi.summary()"
   ]
  },
  {
   "cell_type": "code",
   "execution_count": 10,
   "id": "d4e88553",
   "metadata": {},
   "outputs": [
    {
     "name": "stdout",
     "output_type": "stream",
     "text": [
      "Model: \"model_1\"\n",
      "__________________________________________________________________________________________________\n",
      " Layer (type)                   Output Shape         Param #     Connected to                     \n",
      "==================================================================================================\n",
      " input_1 (InputLayer)           [(None, 466)]        0           []                               \n",
      "                                                                                                  \n",
      " model (Functional)             (None, 32)           40224       ['input_1[0][0]',                \n",
      "                                                                  'input_2[0][0]']                \n",
      "                                                                                                  \n",
      " input_2 (InputLayer)           [(None, 466)]        0           []                               \n",
      "                                                                                                  \n",
      " k_layer (Dense)                (None, 32)           1024        ['model[0][0]']                  \n",
      "                                                                                                  \n",
      " tf.math.subtract (TFOpLambda)  (None, 32)           0           ['k_layer[0][0]',                \n",
      "                                                                  'model[1][0]']                  \n",
      "                                                                                                  \n",
      "==================================================================================================\n",
      "Total params: 41,248\n",
      "Trainable params: 40,224\n",
      "Non-trainable params: 1,024\n",
      "__________________________________________________________________________________________________\n"
     ]
    }
   ],
   "source": [
    "model.summary()"
   ]
  },
  {
   "cell_type": "code",
   "execution_count": 11,
   "id": "5bb88be4",
   "metadata": {},
   "outputs": [],
   "source": [
    "shuffle_index = np.random.permutation(len(x_train))\n",
    "x_train, y_train = x_train[shuffle_index], y_train[shuffle_index]"
   ]
  },
  {
   "cell_type": "code",
   "execution_count": 12,
   "id": "4431c159",
   "metadata": {},
   "outputs": [],
   "source": [
    "from sklearn.preprocessing import StandardScaler\n",
    "scaler = StandardScaler()\n",
    "scaler.fit(x_train)\n",
    "x_train_scaled = scaler.transform(x_train)\n",
    "y_train_scaled = scaler.transform(y_train)"
   ]
  },
  {
   "cell_type": "code",
   "execution_count": 13,
   "id": "b428a71e",
   "metadata": {},
   "outputs": [
    {
     "data": {
      "text/plain": [
       "array([[ 0.07861037, -0.07603735,  1.1766751 , ...,  0.06117061,\n",
       "         0.01309816, -0.01309247],\n",
       "       [ 0.79994506, -0.93304664, -0.00949025, ...,  0.62272406,\n",
       "        -0.687221  ,  0.6872238 ],\n",
       "       [-0.5033028 ,  0.55740386,  0.07742402, ..., -0.6121864 ,\n",
       "         0.6582242 , -0.65822494],\n",
       "       ...,\n",
       "       [ 0.51202995, -0.6798891 ,  0.27515993, ...,  0.47984302,\n",
       "        -0.4478099 ,  0.44781378],\n",
       "       [ 1.5241511 , -1.9631385 , -3.0187502 , ...,  2.4077985 ,\n",
       "        -2.461962  ,  2.461959  ],\n",
       "       [-0.7913739 ,  1.0153193 ,  0.01179999, ..., -0.84069616,\n",
       "         0.8525271 , -0.85252774]], dtype=float32)"
      ]
     },
     "execution_count": 13,
     "metadata": {},
     "output_type": "execute_result"
    }
   ],
   "source": [
    "x_train_scaled"
   ]
  },
  {
   "cell_type": "code",
   "execution_count": 14,
   "id": "5bb96b87",
   "metadata": {},
   "outputs": [
    {
     "data": {
      "text/plain": [
       "array([[ 0.10108007, -0.02835869,  1.0870415 , ...,  0.05665157,\n",
       "         0.0227479 , -0.02274544],\n",
       "       [ 0.7346187 , -0.8845528 ,  0.03459857, ...,  0.6193782 ,\n",
       "        -0.6630332 ,  0.6630361 ],\n",
       "       [-0.5495236 ,  0.5644399 ,  0.05327235, ..., -0.62231404,\n",
       "         0.6664058 , -0.6664061 ],\n",
       "       ...,\n",
       "       [ 0.45955756, -0.6593826 ,  0.2771896 , ...,  0.46055353,\n",
       "        -0.4224441 ,  0.42244828],\n",
       "       [ 1.0168118 , -1.8907309 , -3.2552001 , ...,  2.2096937 ,\n",
       "        -2.356836  ,  2.3568332 ],\n",
       "       [-0.8504554 ,  1.0193942 ,  0.11290981, ..., -0.8451715 ,\n",
       "         0.8559196 , -0.85592026]], dtype=float32)"
      ]
     },
     "execution_count": 14,
     "metadata": {},
     "output_type": "execute_result"
    }
   ],
   "source": [
    "y_train_scaled"
   ]
  },
  {
   "cell_type": "code",
   "execution_count": 15,
   "id": "375af6da",
   "metadata": {},
   "outputs": [
    {
     "name": "stderr",
     "output_type": "stream",
     "text": [
      "2023-03-25 11:42:55.354580: I tensorflow/compiler/xla/stream_executor/cuda/cuda_blas.cc:630] TensorFloat-32 will be used for the matrix multiplication. This will only be logged once.\n"
     ]
    }
   ],
   "source": [
    "zeros_data_train = tf.zeros(np.shape(dic.call(x_train)))"
   ]
  },
  {
   "cell_type": "code",
   "execution_count": 16,
   "id": "cfffd08a",
   "metadata": {},
   "outputs": [],
   "source": [
    "lr = 0.001\n",
    "opt = tf.keras.optimizers.Adam(learning_rate=lr)\n",
    "model.compile(optimizer=opt, loss='mse')\n",
    "loss_fun = tf.keras.losses.MeanSquaredError()"
   ]
  },
  {
   "cell_type": "code",
   "execution_count": 17,
   "id": "c7c34235",
   "metadata": {},
   "outputs": [
    {
     "name": "stderr",
     "output_type": "stream",
     "text": [
      "2023-03-25 11:42:56.319176: I tensorflow/compiler/xla/service/service.cc:173] XLA service 0x5620b94e5b20 initialized for platform CUDA (this does not guarantee that XLA will be used). Devices:\n",
      "2023-03-25 11:42:56.319237: I tensorflow/compiler/xla/service/service.cc:181]   StreamExecutor device (0): NVIDIA GeForce RTX 3090, Compute Capability 8.6\n",
      "2023-03-25 11:42:56.330038: I tensorflow/compiler/mlir/tensorflow/utils/dump_mlir_util.cc:268] disabling MLIR crash reproducer, set env var `MLIR_CRASH_REPRODUCER_DIRECTORY` to enable.\n",
      "2023-03-25 11:42:56.452332: I tensorflow/compiler/jit/xla_compilation_cache.cc:477] Compiled cluster using XLA!  This line is logged at most once for the lifetime of the process.\n",
      "2023-03-25 11:42:58.172921: I tensorflow/core/util/cuda_solvers.cc:179] Creating GpuSolver handles for stream 0x5620a3f87480\n"
     ]
    }
   ],
   "source": [
    "epochs = 40\n",
    "reg = 0.05\n",
    "loss_history = []\n",
    "for epoch in range(epochs):\n",
    "    model.fit([x_train_scaled, y_train_scaled], zeros_data_train, epochs = 50, verbose = 0, batch_size = 64)\n",
    "    psi_x = dic.call(x_train_scaled)\n",
    "    psi_y = dic.call(y_train_scaled)\n",
    "    idmat = tf.eye(psi_x.shape[-1])\n",
    "    XT = tf.Variable(tf.transpose(psi_x))\n",
    "    XXT_inv = tf.linalg.inv(reg * idmat + tf.matmul(XT, psi_x))\n",
    "    K = tf.matmul(XXT_inv,tf.matmul(XT,psi_y))\n",
    "    model.get_layer('k_layer').set_weights([K])\n",
    "    loss_history.append(loss_fun(tf.matmul(dic.call(x_train_scaled),K)-dic.call(y_train_scaled), zeros_data_train).numpy())"
   ]
  },
  {
   "cell_type": "code",
   "execution_count": 18,
   "id": "57a38161",
   "metadata": {},
   "outputs": [
    {
     "name": "stdout",
     "output_type": "stream",
     "text": [
      "[0.0020928213, 0.0017132801, 0.0014687452, 0.0012800869, 0.0011305695, 0.0010620033, 0.0008707416, 0.00076943985, 0.00068423315, 0.00060949265, 0.0005783969, 0.0004973767, 0.0004560461, 0.00041318618, 0.000446369, 0.00037685444, 0.00033839385, 0.00030718461, 0.00028618117, 0.00025744434, 0.00023999906, 0.00022629772, 0.00021200046, 0.00018852053, 0.00017904054, 0.00016144896, 0.0001615103, 0.00014851209, 0.00015011201, 0.00012571515, 0.00010851033, 0.00010260835, 0.00011252245, 9.836326e-05, 8.235719e-05, 7.368184e-05, 6.416413e-05, 5.852063e-05, 5.328092e-05, 5.4273154e-05]\n"
     ]
    }
   ],
   "source": [
    "print(loss_history)"
   ]
  },
  {
   "cell_type": "code",
   "execution_count": 19,
   "id": "5b290d86",
   "metadata": {},
   "outputs": [
    {
     "data": {
      "text/plain": [
       "<tf.Tensor: shape=(32,), dtype=complex64, numpy=\n",
       "array([ 0.9893222 +0.02656742j,  0.9893222 -0.02656742j,\n",
       "        0.9554463 +0.07101205j,  0.9554463 -0.07101205j,\n",
       "        0.6885283 +0.21836822j,  0.6885283 -0.21836822j,\n",
       "        0.88830924+0.j        ,  0.79990995+0.03903977j,\n",
       "        0.79990995-0.03903977j,  0.5136434 +0.j        ,\n",
       "        0.45455584+0.j        ,  0.30079785+0.j        ,\n",
       "        0.22738251+0.j        ,  0.16646184+0.j        ,\n",
       "        0.11451071+0.04084622j,  0.11451071-0.04084622j,\n",
       "        0.11106935+0.j        ,  0.07984176+0.02171787j,\n",
       "        0.07984176-0.02171787j,  0.06505807+0.01207966j,\n",
       "        0.06505807-0.01207966j, -0.00827786+0.01303147j,\n",
       "       -0.00827786-0.01303147j, -0.01062239+0.j        ,\n",
       "        0.03989235+0.j        , -0.00293959+0.j        ,\n",
       "        0.01192722+0.00921976j,  0.01192722-0.00921976j,\n",
       "        0.00815916+0.00498749j,  0.00815916-0.00498749j,\n",
       "        0.02831834+0.j        ,  0.02065274+0.j        ], dtype=complex64)>"
      ]
     },
     "execution_count": 19,
     "metadata": {},
     "output_type": "execute_result"
    }
   ],
   "source": [
    "eigenvalues, eigenvectors = tf.linalg.eig(K)\n",
    "eigenvalues"
   ]
  },
  {
   "cell_type": "code",
   "execution_count": 20,
   "id": "097659fc",
   "metadata": {},
   "outputs": [
    {
     "data": {
      "image/png": "[encoded data removed]",
      "text/plain": [
       "<Figure size 640x480 with 1 Axes>"
      ]
     },
     "metadata": {},
     "output_type": "display_data"
    }
   ],
   "source": [
    "import matplotlib.pyplot as plt\n",
    "import numpy as np\n",
    "from matplotlib.patches import Circle\n",
    "\n",
    "# Extract real and imaginary parts\n",
    "real_part = np.real(eigenvalues)\n",
    "imag_part = np.imag(eigenvalues)\n",
    "\n",
    "fig, ax = plt.subplots()\n",
    "ax.scatter(real_part, imag_part)\n",
    "\n",
    "# Label the axes\n",
    "ax.set_xlabel('Real Part')\n",
    "ax.set_ylabel('Imaginary Part')\n",
    "\n",
    "# Label the caption\n",
    "plt.title('Eigenvalue at %d nodes and 32 dim latent state' % node_num)\n",
    "\n",
    "# Add the unit circle\n",
    "unit_circle = Circle((0, 0), radius=1, fill=False, linestyle='--', linewidth=2, color = 'darkorange')\n",
    "ax.add_artist(unit_circle)\n",
    "\n",
    "# Set the axis limits to show the full circle\n",
    "ax.set_xlim([-1.5, 1.5])\n",
    "ax.set_ylim([-1.5, 1.5])\n",
    "ax.set_aspect('equal')\n",
    "\n",
    "\n",
    "# Show the plot\n",
    "plt.show()\n"
   ]
  },
  {
   "cell_type": "code",
   "execution_count": 21,
   "id": "25c1435b",
   "metadata": {},
   "outputs": [],
   "source": [
    "# np.save('spetral_%d_32.npy' % node_num, eigenvalues)"
   ]
  },
  {
   "cell_type": "code",
   "execution_count": null,
   "id": "67de45c1",
   "metadata": {},
   "outputs": [],
   "source": []
  }
 ],
 "metadata": {
  "kernelspec": {
   "display_name": "tensor-koopman",
   "language": "python",
   "name": "tensor-koopman"
  },
  "language_info": {
   "codemirror_mode": {
    "name": "ipython",
    "version": 3
   },
   "file_extension": ".py",
   "mimetype": "text/x-python",
   "name": "python",
   "nbconvert_exporter": "python",
   "pygments_lexer": "ipython3",
   "version": "3.8.16"
  }
 },
 "nbformat": 4,
 "nbformat_minor": 5
}
